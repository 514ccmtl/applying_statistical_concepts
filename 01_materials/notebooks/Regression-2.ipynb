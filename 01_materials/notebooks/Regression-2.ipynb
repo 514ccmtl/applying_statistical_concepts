{
 "cells": [
  {
   "cell_type": "markdown",
   "metadata": {},
   "source": [
    "### Install Packages and Import Dataset\n",
    "\n",
    "In this notebook, we’ll be working with a data set of 932 real estate transactions in Sacramento, California. As a reminder, this dataset contains several features regarding property details, including location, size, type, and price..\n",
    "\n",
    "Each row in the dataset represents a listing, with various property details:\n",
    "\n",
    "- **City:** The city where the property is located.\n",
    "- **Zip:** The postal code for the property’s location.\n",
    "- **Beds:** The number of bedrooms in the property.\n",
    "- **Baths:** The number of bathrooms in the property.\n",
    "- **Sqft:** The square footage of the property.\n",
    "- **Type:** The type of property (e.g., Residential).\n",
    "- **Latitude:** The latitude coordinate of the property.\n",
    "- **Longitude:** The longitude coordinate of the property.\n",
    "\n",
    "The target column is **Price**, which we will try to predict based on the other features in the dataset.\n",
    "\n",
    "This dataset was obtained from (https://support.spatialkey.com/spatialkey-sample-csv-data/)"
   ]
  },
  {
   "cell_type": "code",
   "execution_count": 8,
   "metadata": {},
   "outputs": [],
   "source": [
    "import numpy as np\n",
    "import pandas as pd\n",
    "import matplotlib.pyplot as plt\n",
    "from sklearn.model_selection import train_test_split\n",
    "from sklearn.linear_model import LinearRegression\n",
    "from sklearn.metrics import mean_squared_error\n",
    "from sklearn import set_config\n"
   ]
  },
  {
   "cell_type": "markdown",
   "metadata": {},
   "source": [
    " While it's easy to understand, KNN regression struggles to make predictions outside the range of the training data and gets slower with larger datasets. \n",
    " \n",
    " An alternative is **linear regression**, which solves both of these issues. Linear regression is widely used because it provides a clear equation that explains the relationship between predictors and the outcome. This notebook will start with simple linear regression, which uses one predictor and one outcome, and later moves to multivariable linear regression. \n",
    " \n",
    " Linear regression fits a straight line through the data to make predictions."
   ]
  },
  {
   "cell_type": "markdown",
   "metadata": {},
   "source": [
    "#### Our question is predictive: \n",
    "Can we use the size of a house in the Sacramento, CA area to predict its sale price? "
   ]
  },
  {
   "cell_type": "markdown",
   "metadata": {},
   "source": [
    "The equation for the straight line is:\n",
    "\n",
    "$$\n",
    "\\text{House sale price} = b_0 + b_1 \\times (\\text{house size})\n",
    "$$\n",
    "\n",
    "where:\n",
    "\n",
    "- $ b_0 $ is the price when the house size is 0 (the intercept).\n",
    "- $ b_1 $ is how much the price increases for each unit increase in house size (the slope)."
   ]
  },
  {
   "cell_type": "markdown",
   "metadata": {},
   "source": [
    "Using data to find the line of best fit means finding the coefficients $ b_0 $ and $ b_1 $, which define the line. You can think of $ b_0 $ as the base price and $ b_1 $ as the price increase per square foot. "
   ]
  },
  {
   "cell_type": "code",
   "execution_count": 3,
   "metadata": {},
   "outputs": [
    {
     "data": {
      "text/html": [
       "<div>\n",
       "<style scoped>\n",
       "    .dataframe tbody tr th:only-of-type {\n",
       "        vertical-align: middle;\n",
       "    }\n",
       "\n",
       "    .dataframe tbody tr th {\n",
       "        vertical-align: top;\n",
       "    }\n",
       "\n",
       "    .dataframe thead th {\n",
       "        text-align: right;\n",
       "    }\n",
       "</style>\n",
       "<table border=\"1\" class=\"dataframe\">\n",
       "  <thead>\n",
       "    <tr style=\"text-align: right;\">\n",
       "      <th></th>\n",
       "      <th>street</th>\n",
       "      <th>city</th>\n",
       "      <th>zip</th>\n",
       "      <th>state</th>\n",
       "      <th>beds</th>\n",
       "      <th>baths</th>\n",
       "      <th>sq__ft</th>\n",
       "      <th>type</th>\n",
       "      <th>sale_date</th>\n",
       "      <th>price</th>\n",
       "      <th>latitude</th>\n",
       "      <th>longitude</th>\n",
       "    </tr>\n",
       "  </thead>\n",
       "  <tbody>\n",
       "    <tr>\n",
       "      <th>0</th>\n",
       "      <td>1 KENNELFORD CIR</td>\n",
       "      <td>SACRAMENTO</td>\n",
       "      <td>95823</td>\n",
       "      <td>CA</td>\n",
       "      <td>3</td>\n",
       "      <td>2</td>\n",
       "      <td>1144</td>\n",
       "      <td>Residential</td>\n",
       "      <td>Mon May 19 00:00:00 EDT 2008</td>\n",
       "      <td>200345</td>\n",
       "      <td>38.464520</td>\n",
       "      <td>-121.427606</td>\n",
       "    </tr>\n",
       "    <tr>\n",
       "      <th>1</th>\n",
       "      <td>10 SEA FOAM CT</td>\n",
       "      <td>SACRAMENTO</td>\n",
       "      <td>95831</td>\n",
       "      <td>CA</td>\n",
       "      <td>3</td>\n",
       "      <td>3</td>\n",
       "      <td>2052</td>\n",
       "      <td>Residential</td>\n",
       "      <td>Wed May 21 00:00:00 EDT 2008</td>\n",
       "      <td>415000</td>\n",
       "      <td>38.487885</td>\n",
       "      <td>-121.545947</td>\n",
       "    </tr>\n",
       "    <tr>\n",
       "      <th>2</th>\n",
       "      <td>100 CHELSEA CT</td>\n",
       "      <td>FOLSOM</td>\n",
       "      <td>95630</td>\n",
       "      <td>CA</td>\n",
       "      <td>3</td>\n",
       "      <td>2</td>\n",
       "      <td>1905</td>\n",
       "      <td>Residential</td>\n",
       "      <td>Mon May 19 00:00:00 EDT 2008</td>\n",
       "      <td>500000</td>\n",
       "      <td>38.694350</td>\n",
       "      <td>-121.177259</td>\n",
       "    </tr>\n",
       "    <tr>\n",
       "      <th>3</th>\n",
       "      <td>100 REBECCA WAY</td>\n",
       "      <td>FOLSOM</td>\n",
       "      <td>95630</td>\n",
       "      <td>CA</td>\n",
       "      <td>3</td>\n",
       "      <td>2</td>\n",
       "      <td>2185</td>\n",
       "      <td>Residential</td>\n",
       "      <td>Wed May 21 00:00:00 EDT 2008</td>\n",
       "      <td>344250</td>\n",
       "      <td>38.684790</td>\n",
       "      <td>-121.149199</td>\n",
       "    </tr>\n",
       "    <tr>\n",
       "      <th>4</th>\n",
       "      <td>100 TOURMALINE CIR</td>\n",
       "      <td>SACRAMENTO</td>\n",
       "      <td>95834</td>\n",
       "      <td>CA</td>\n",
       "      <td>5</td>\n",
       "      <td>3</td>\n",
       "      <td>3076</td>\n",
       "      <td>Residential</td>\n",
       "      <td>Mon May 19 00:00:00 EDT 2008</td>\n",
       "      <td>240000</td>\n",
       "      <td>38.634370</td>\n",
       "      <td>-121.510779</td>\n",
       "    </tr>\n",
       "    <tr>\n",
       "      <th>...</th>\n",
       "      <td>...</td>\n",
       "      <td>...</td>\n",
       "      <td>...</td>\n",
       "      <td>...</td>\n",
       "      <td>...</td>\n",
       "      <td>...</td>\n",
       "      <td>...</td>\n",
       "      <td>...</td>\n",
       "      <td>...</td>\n",
       "      <td>...</td>\n",
       "      <td>...</td>\n",
       "      <td>...</td>\n",
       "    </tr>\n",
       "    <tr>\n",
       "      <th>809</th>\n",
       "      <td>9880 IZILDA CT</td>\n",
       "      <td>SACRAMENTO</td>\n",
       "      <td>95829</td>\n",
       "      <td>CA</td>\n",
       "      <td>5</td>\n",
       "      <td>4</td>\n",
       "      <td>3863</td>\n",
       "      <td>Residential</td>\n",
       "      <td>Fri May 16 00:00:00 EDT 2008</td>\n",
       "      <td>598695</td>\n",
       "      <td>38.453260</td>\n",
       "      <td>-121.325730</td>\n",
       "    </tr>\n",
       "    <tr>\n",
       "      <th>810</th>\n",
       "      <td>993 MANTON CT</td>\n",
       "      <td>GALT</td>\n",
       "      <td>95632</td>\n",
       "      <td>CA</td>\n",
       "      <td>4</td>\n",
       "      <td>3</td>\n",
       "      <td>2307</td>\n",
       "      <td>Residential</td>\n",
       "      <td>Tue May 20 00:00:00 EDT 2008</td>\n",
       "      <td>300000</td>\n",
       "      <td>38.272942</td>\n",
       "      <td>-121.289148</td>\n",
       "    </tr>\n",
       "    <tr>\n",
       "      <th>811</th>\n",
       "      <td>9937 BURLINE ST</td>\n",
       "      <td>SACRAMENTO</td>\n",
       "      <td>95827</td>\n",
       "      <td>CA</td>\n",
       "      <td>3</td>\n",
       "      <td>2</td>\n",
       "      <td>1092</td>\n",
       "      <td>Residential</td>\n",
       "      <td>Fri May 16 00:00:00 EDT 2008</td>\n",
       "      <td>150000</td>\n",
       "      <td>38.559641</td>\n",
       "      <td>-121.323160</td>\n",
       "    </tr>\n",
       "    <tr>\n",
       "      <th>812</th>\n",
       "      <td>9949 NESTLING CIR</td>\n",
       "      <td>ELK GROVE</td>\n",
       "      <td>95757</td>\n",
       "      <td>CA</td>\n",
       "      <td>3</td>\n",
       "      <td>2</td>\n",
       "      <td>1543</td>\n",
       "      <td>Residential</td>\n",
       "      <td>Fri May 16 00:00:00 EDT 2008</td>\n",
       "      <td>275000</td>\n",
       "      <td>38.397455</td>\n",
       "      <td>-121.468391</td>\n",
       "    </tr>\n",
       "    <tr>\n",
       "      <th>813</th>\n",
       "      <td>9970 STATE HIGHWAY 193</td>\n",
       "      <td>PLACERVILLE</td>\n",
       "      <td>95667</td>\n",
       "      <td>CA</td>\n",
       "      <td>4</td>\n",
       "      <td>3</td>\n",
       "      <td>1929</td>\n",
       "      <td>Residential</td>\n",
       "      <td>Tue May 20 00:00:00 EDT 2008</td>\n",
       "      <td>485000</td>\n",
       "      <td>38.787877</td>\n",
       "      <td>-120.816676</td>\n",
       "    </tr>\n",
       "  </tbody>\n",
       "</table>\n",
       "<p>814 rows × 12 columns</p>\n",
       "</div>"
      ],
      "text/plain": [
       "                     street         city    zip state  beds  baths  sq__ft  \\\n",
       "0          1 KENNELFORD CIR   SACRAMENTO  95823    CA     3      2    1144   \n",
       "1            10 SEA FOAM CT   SACRAMENTO  95831    CA     3      3    2052   \n",
       "2            100 CHELSEA CT       FOLSOM  95630    CA     3      2    1905   \n",
       "3           100 REBECCA WAY       FOLSOM  95630    CA     3      2    2185   \n",
       "4        100 TOURMALINE CIR   SACRAMENTO  95834    CA     5      3    3076   \n",
       "..                      ...          ...    ...   ...   ...    ...     ...   \n",
       "809          9880 IZILDA CT   SACRAMENTO  95829    CA     5      4    3863   \n",
       "810           993 MANTON CT         GALT  95632    CA     4      3    2307   \n",
       "811         9937 BURLINE ST   SACRAMENTO  95827    CA     3      2    1092   \n",
       "812       9949 NESTLING CIR    ELK GROVE  95757    CA     3      2    1543   \n",
       "813  9970 STATE HIGHWAY 193  PLACERVILLE  95667    CA     4      3    1929   \n",
       "\n",
       "            type                     sale_date   price   latitude   longitude  \n",
       "0    Residential  Mon May 19 00:00:00 EDT 2008  200345  38.464520 -121.427606  \n",
       "1    Residential  Wed May 21 00:00:00 EDT 2008  415000  38.487885 -121.545947  \n",
       "2    Residential  Mon May 19 00:00:00 EDT 2008  500000  38.694350 -121.177259  \n",
       "3    Residential  Wed May 21 00:00:00 EDT 2008  344250  38.684790 -121.149199  \n",
       "4    Residential  Mon May 19 00:00:00 EDT 2008  240000  38.634370 -121.510779  \n",
       "..           ...                           ...     ...        ...         ...  \n",
       "809  Residential  Fri May 16 00:00:00 EDT 2008  598695  38.453260 -121.325730  \n",
       "810  Residential  Tue May 20 00:00:00 EDT 2008  300000  38.272942 -121.289148  \n",
       "811  Residential  Fri May 16 00:00:00 EDT 2008  150000  38.559641 -121.323160  \n",
       "812  Residential  Fri May 16 00:00:00 EDT 2008  275000  38.397455 -121.468391  \n",
       "813  Residential  Tue May 20 00:00:00 EDT 2008  485000  38.787877 -120.816676  \n",
       "\n",
       "[814 rows x 12 columns]"
      ]
     },
     "execution_count": 3,
     "metadata": {},
     "output_type": "execute_result"
    }
   ],
   "source": [
    "# Output dataframes instead of arrays\n",
    "set_config(transform_output=\"pandas\")\n",
    "\n",
    "#set seed for reproducibility\n",
    "np.random.seed(10)\n",
    "\n",
    "sacramento = pd.read_csv(\"dataset/sacramento.csv\")\n",
    "sacramento"
   ]
  },
  {
   "cell_type": "markdown",
   "metadata": {},
   "source": [
    "This question guides our initial exploration: the columns in the data that we are interested in are \n",
    "- sq__ft (house size, in livable square feet)\n",
    "-  price (house sale price, in US dollars (USD)). "
   ]
  },
  {
   "cell_type": "markdown",
   "metadata": {},
   "source": [
    "### Linear regression"
   ]
  },
  {
   "cell_type": "markdown",
   "metadata": {},
   "source": [
    "We can perform simple linear regression in Python using scikit-learn much like we did for KNN regression. Instead of using a `KNeighborsRegressor` model, we create a `LinearRegression` model. Unlike KNN, we don't need to pick a $K$ value or use cross-validation to fine-tune the model.\n",
    "\n",
    "Here's how we can predict house sale prices based on house size using simple linear regression with the full Sacramento real estate dataset."
   ]
  },
  {
   "cell_type": "markdown",
   "metadata": {},
   "source": [
    "### Training, evaluating, and tuning the model"
   ]
  },
  {
   "cell_type": "markdown",
   "metadata": {},
   "source": [
    "Step 1. Split the dataset into test and train"
   ]
  },
  {
   "cell_type": "code",
   "execution_count": 4,
   "metadata": {},
   "outputs": [],
   "source": [
    "sacramento_train, sacramento_test = train_test_split(\n",
    "    sacramento, train_size=0.75\n",
    ")"
   ]
  },
  {
   "cell_type": "markdown",
   "metadata": {},
   "source": [
    "Step 2. fit the linear regression model.\n",
    "Here, we extract the slope of the line via the `coef_[0]` property, as well as the intercept of the line via the `intercept_` property."
   ]
  },
  {
   "cell_type": "code",
   "execution_count": 6,
   "metadata": {},
   "outputs": [
    {
     "data": {
      "text/html": [
       "<div>\n",
       "<style scoped>\n",
       "    .dataframe tbody tr th:only-of-type {\n",
       "        vertical-align: middle;\n",
       "    }\n",
       "\n",
       "    .dataframe tbody tr th {\n",
       "        vertical-align: top;\n",
       "    }\n",
       "\n",
       "    .dataframe thead th {\n",
       "        text-align: right;\n",
       "    }\n",
       "</style>\n",
       "<table border=\"1\" class=\"dataframe\">\n",
       "  <thead>\n",
       "    <tr style=\"text-align: right;\">\n",
       "      <th></th>\n",
       "      <th>slope</th>\n",
       "      <th>intercept</th>\n",
       "    </tr>\n",
       "  </thead>\n",
       "  <tbody>\n",
       "    <tr>\n",
       "      <th>0</th>\n",
       "      <td>135.405151</td>\n",
       "      <td>17062.984189</td>\n",
       "    </tr>\n",
       "  </tbody>\n",
       "</table>\n",
       "</div>"
      ],
      "text/plain": [
       "        slope     intercept\n",
       "0  135.405151  17062.984189"
      ]
     },
     "execution_count": 6,
     "metadata": {},
     "output_type": "execute_result"
    }
   ],
   "source": [
    "# fit the linear regression model\n",
    "lm = LinearRegression()\n",
    "lm.fit(\n",
    "   sacramento_train[[\"sq__ft\"]],  # A single-column data frame\n",
    "   sacramento_train[\"price\"]  # A series\n",
    ")\n",
    "\n",
    "# make a dataframe containing slope and intercept coefficients\n",
    "pd.DataFrame({\"slope\": [lm.coef_[0]], \"intercept\": [lm.intercept_]})"
   ]
  },
  {
   "cell_type": "markdown",
   "metadata": {},
   "source": [
    "Our coefficients are:\n",
    "\n",
    "- Intercept ($b_0$): 17,063\n",
    "- Slope ($b_1$): 133\n",
    "\n",
    "This means the equation of the line of best fit is:\n",
    "\n",
    "$$\n",
    "\\text{House sale price} = 17,063 + 133 \\times (\\text{house size})\n",
    "$$\n",
    "\n",
    "So for each additional square foot of house size, the price increases by 133 units."
   ]
  },
  {
   "cell_type": "markdown",
   "metadata": {},
   "source": [
    "Step 3. Finally, we predict on the test data set to assess how well our model does."
   ]
  },
  {
   "cell_type": "code",
   "execution_count": 7,
   "metadata": {},
   "outputs": [
    {
     "data": {
      "text/plain": [
       "89035.12367992694"
      ]
     },
     "execution_count": 7,
     "metadata": {},
     "output_type": "execute_result"
    }
   ],
   "source": [
    "# make predictions\n",
    "sacramento_test[\"predicted\"] = lm.predict(sacramento_test[[\"sq__ft\"]])\n",
    "\n",
    "# calculate RMSPE\n",
    "RMSPE = mean_squared_error(\n",
    "    y_true=sacramento_test[\"price\"],\n",
    "    y_pred=sacramento_test[\"predicted\"]\n",
    ")**(1/2)\n",
    "\n",
    "RMSPE"
   ]
  },
  {
   "cell_type": "markdown",
   "metadata": {},
   "source": [
    "Our final model's test error, measured by RMSPE, is $89,035. Since this is in US Dollars, it tells us how far off our predictions are on average. But does that make the model \"good\" at predicting house prices based on home size? That depends on how precise you need the predictions to be for your purpose!"
   ]
  },
  {
   "cell_type": "markdown",
   "metadata": {},
   "source": [
    "To visualize the simple linear regression model, we can plot the predicted house sale prices across all possible house sizes. Since the model is a straight line, we only need to calculate the predicted prices at the smallest and largest house sizes, then draw a line between them. By overlaying this line on a scatter plot of the actual housing prices, we can visually check how well the model fits the data."
   ]
  },
  {
   "cell_type": "code",
   "execution_count": 10,
   "metadata": {},
   "outputs": [
    {
     "data": {
      "image/png": "[encoded data removed]",
      "text/plain": [
       "<Figure size 640x480 with 1 Axes>"
      ]
     },
     "metadata": {},
     "output_type": "display_data"
    }
   ],
   "source": [
    "sqft_prediction_grid = sacramento[[\"sq__ft\"]].agg([\"min\", \"max\"])\n",
    "sqft_prediction_grid[\"predicted\"] = lm.predict(sqft_prediction_grid)\n",
    "\n",
    "# Plot the original data\n",
    "plt.scatter(sacramento[\"sq__ft\"], sacramento[\"price\"], label='Original Data')\n",
    "\n",
    "# Plot the model predictions as a line\n",
    "plt.plot(sqft_prediction_grid[\"sq__ft\"], sqft_prediction_grid[\"predicted\"], color='red', label='Model Predictions')\n",
    "\n",
    "# Add labels and legend\n",
    "plt.xlabel('House size (square feet)')\n",
    "plt.ylabel('Price (USD)')\n",
    "plt.title('Scatter Plot of House Size vs Price')\n",
    "plt.legend()\n",
    "\n",
    "# Show the plot\n",
    "plt.show()"
   ]
  },
  {
   "cell_type": "markdown",
   "metadata": {},
   "source": [
    "Don't worry about the details of this plot. This is simply depicting the predicted values of house price (red line) for the final linear regression model.\n",
    "\n"
   ]
  },
  {
   "cell_type": "markdown",
   "metadata": {},
   "source": [
    "### Multivariable linear regression"
   ]
  },
  {
   "cell_type": "markdown",
   "metadata": {},
   "source": [
    "We can use multivariable linear regression to include multiple predictors. Here, we'll apply multivariable linear regression to the Sacramento real estate data, using both house size (square feet) and number of bedrooms as predictors for the house sale price. \n",
    "\n",
    "Using scikit-learn, we can easily include both predictors and fit the model as before."
   ]
  },
  {
   "cell_type": "markdown",
   "metadata": {},
   "source": [
    "Step 1. fit the linear regression model on the training data."
   ]
  },
  {
   "cell_type": "code",
   "execution_count": 11,
   "metadata": {},
   "outputs": [
    {
     "data": {
      "text/html": [
       "<style>#sk-container-id-1 {color: black;background-color: white;}#sk-container-id-1 pre{padding: 0;}#sk-container-id-1 div.sk-toggleable {background-color: white;}#sk-container-id-1 label.sk-toggleable__label {cursor: pointer;display: block;width: 100%;margin-bottom: 0;padding: 0.3em;box-sizing: border-box;text-align: center;}#sk-container-id-1 label.sk-toggleable__label-arrow:before {content: \"▸\";float: left;margin-right: 0.25em;color: #696969;}#sk-container-id-1 label.sk-toggleable__label-arrow:hover:before {color: black;}#sk-container-id-1 div.sk-estimator:hover label.sk-toggleable__label-arrow:before {color: black;}#sk-container-id-1 div.sk-toggleable__content {max-height: 0;max-width: 0;overflow: hidden;text-align: left;background-color: #f0f8ff;}#sk-container-id-1 div.sk-toggleable__content pre {margin: 0.2em;color: black;border-radius: 0.25em;background-color: #f0f8ff;}#sk-container-id-1 input.sk-toggleable__control:checked~div.sk-toggleable__content {max-height: 200px;max-width: 100%;overflow: auto;}#sk-container-id-1 input.sk-toggleable__control:checked~label.sk-toggleable__label-arrow:before {content: \"▾\";}#sk-container-id-1 div.sk-estimator input.sk-toggleable__control:checked~label.sk-toggleable__label {background-color: #d4ebff;}#sk-container-id-1 div.sk-label input.sk-toggleable__control:checked~label.sk-toggleable__label {background-color: #d4ebff;}#sk-container-id-1 input.sk-hidden--visually {border: 0;clip: rect(1px 1px 1px 1px);clip: rect(1px, 1px, 1px, 1px);height: 1px;margin: -1px;overflow: hidden;padding: 0;position: absolute;width: 1px;}#sk-container-id-1 div.sk-estimator {font-family: monospace;background-color: #f0f8ff;border: 1px dotted black;border-radius: 0.25em;box-sizing: border-box;margin-bottom: 0.5em;}#sk-container-id-1 div.sk-estimator:hover {background-color: #d4ebff;}#sk-container-id-1 div.sk-parallel-item::after {content: \"\";width: 100%;border-bottom: 1px solid gray;flex-grow: 1;}#sk-container-id-1 div.sk-label:hover label.sk-toggleable__label {background-color: #d4ebff;}#sk-container-id-1 div.sk-serial::before {content: \"\";position: absolute;border-left: 1px solid gray;box-sizing: border-box;top: 0;bottom: 0;left: 50%;z-index: 0;}#sk-container-id-1 div.sk-serial {display: flex;flex-direction: column;align-items: center;background-color: white;padding-right: 0.2em;padding-left: 0.2em;position: relative;}#sk-container-id-1 div.sk-item {position: relative;z-index: 1;}#sk-container-id-1 div.sk-parallel {display: flex;align-items: stretch;justify-content: center;background-color: white;position: relative;}#sk-container-id-1 div.sk-item::before, #sk-container-id-1 div.sk-parallel-item::before {content: \"\";position: absolute;border-left: 1px solid gray;box-sizing: border-box;top: 0;bottom: 0;left: 50%;z-index: -1;}#sk-container-id-1 div.sk-parallel-item {display: flex;flex-direction: column;z-index: 1;position: relative;background-color: white;}#sk-container-id-1 div.sk-parallel-item:first-child::after {align-self: flex-end;width: 50%;}#sk-container-id-1 div.sk-parallel-item:last-child::after {align-self: flex-start;width: 50%;}#sk-container-id-1 div.sk-parallel-item:only-child::after {width: 0;}#sk-container-id-1 div.sk-dashed-wrapped {border: 1px dashed gray;margin: 0 0.4em 0.5em 0.4em;box-sizing: border-box;padding-bottom: 0.4em;background-color: white;}#sk-container-id-1 div.sk-label label {font-family: monospace;font-weight: bold;display: inline-block;line-height: 1.2em;}#sk-container-id-1 div.sk-label-container {text-align: center;}#sk-container-id-1 div.sk-container {/* jupyter's `normalize.less` sets `[hidden] { display: none; }` but bootstrap.min.css set `[hidden] { display: none !important; }` so we also need the `!important` here to be able to override the default hidden behavior on the sphinx rendered scikit-learn.org. See: https://github.com/scikit-learn/scikit-learn/issues/21755 */display: inline-block !important;position: relative;}#sk-container-id-1 div.sk-text-repr-fallback {display: none;}</style><div id=\"sk-container-id-1\" class=\"sk-top-container\"><div class=\"sk-text-repr-fallback\"><pre>LinearRegression()</pre><b>In a Jupyter environment, please rerun this cell to show the HTML representation or trust the notebook. <br />On GitHub, the HTML representation is unable to render, please try loading this page with nbviewer.org.</b></div><div class=\"sk-container\" hidden><div class=\"sk-item\"><div class=\"sk-estimator sk-toggleable\"><input class=\"sk-toggleable__control sk-hidden--visually\" id=\"sk-estimator-id-1\" type=\"checkbox\" checked><label for=\"sk-estimator-id-1\" class=\"sk-toggleable__label sk-toggleable__label-arrow\">LinearRegression</label><div class=\"sk-toggleable__content\"><pre>LinearRegression()</pre></div></div></div></div></div>"
      ],
      "text/plain": [
       "LinearRegression()"
      ]
     },
     "execution_count": 11,
     "metadata": {},
     "output_type": "execute_result"
    }
   ],
   "source": [
    "mlm = LinearRegression()\n",
    "mlm.fit(\n",
    "    sacramento_train[[\"sq__ft\", \"beds\"]],\n",
    "    sacramento_train[\"price\"]\n",
    ")"
   ]
  },
  {
   "cell_type": "markdown",
   "metadata": {},
   "source": [
    "Step 2. Make predictions on the test data set to assess the quality of our model."
   ]
  },
  {
   "cell_type": "code",
   "execution_count": 12,
   "metadata": {},
   "outputs": [
    {
     "data": {
      "text/plain": [
       "91727.91046923249"
      ]
     },
     "execution_count": 12,
     "metadata": {},
     "output_type": "execute_result"
    }
   ],
   "source": [
    "sacramento_test[\"predicted\"] = mlm.predict(sacramento_test[[\"sq__ft\",\"beds\"]])\n",
    "\n",
    "lm_mult_test_RMSPE = mean_squared_error(\n",
    "    y_true=sacramento_test[\"price\"],\n",
    "    y_pred=sacramento_test[\"predicted\"]\n",
    ")**(1/2)\n",
    "lm_mult_test_RMSPE"
   ]
  },
  {
   "cell_type": "markdown",
   "metadata": {},
   "source": [
    "Our model’s test error as assessed by RMSPE is $91,727. \n",
    "\n",
    "For each predictor in a multivariable linear regression model, we get a slope (coefficient) and an intercept, which together describe the best fit mathematically. In scikit-learn, we can extract these values from the model as follows:\n",
    "\n",
    "Slopes (coefficients): These are obtained from the `coef_` property of the model.\n",
    "Intercept: This is obtained from the `intercept_` property of the model."
   ]
  },
  {
   "cell_type": "code",
   "execution_count": 13,
   "metadata": {},
   "outputs": [
    {
     "data": {
      "text/plain": [
       "array([   155.43727531, -21184.24787049])"
      ]
     },
     "execution_count": 13,
     "metadata": {},
     "output_type": "execute_result"
    }
   ],
   "source": [
    "mlm.coef_"
   ]
  },
  {
   "cell_type": "code",
   "execution_count": 14,
   "metadata": {},
   "outputs": [
    {
     "data": {
      "text/plain": [
       "53995.22179883951"
      ]
     },
     "execution_count": 14,
     "metadata": {},
     "output_type": "execute_result"
    }
   ],
   "source": [
    "mlm.intercept_"
   ]
  },
  {
   "cell_type": "markdown",
   "metadata": {},
   "source": [
    "So since we used sacramento_train[[\"sq__ft\", \"beds\"]] when training, we have that `mlm.coef_[0]` corresponds to square feet, and `mlm.coef_[1]` corresponds to beds. "
   ]
  },
  {
   "cell_type": "markdown",
   "metadata": {},
   "source": [
    "Given the model output values:\n",
    "\n",
    "- Intercept ($b_0$): 53,995\n",
    "- Slope for house size ($ b_1$): 155\n",
    "- Slope for number of bedrooms ($b_2$): -21,184\n",
    "\n",
    "The equation of the plane of best fit is:\n",
    "\n",
    "$$\n",
    "\\text{House sale price} = 53,995 + 155 \\times (\\text{house size}) -21,184 \\times (\\text{number of bedrooms})\n",
    "$$\n",
    "\n",
    "This equation describes how the house sale price is predicted based on both house size and the number of bedrooms."
   ]
  },
  {
   "cell_type": "markdown",
   "metadata": {},
   "source": [
    "### Conclusion\n",
    "\n",
    "In this notebook, we worked through several steps to predict housing prices using square feet using a data set of 932 real estate transactions in Sacramento, California. Here's a summary of what we covered:\n",
    "\n",
    "1. **Simple Linear Regression:** We implemented simple linear regression and evaluated its performance on a test dataset.\n",
    "\n",
    "2. **Multiple Linear Regression:** We implemented multiple linear regression and evaluated its performance on a test dataset.\n",
    "\n",
    "\n",
    "We hope this notebook has provided a practical understanding of data regression, model evaluation, and the application of machine learning algorithms like linear regression. Feel free to experiment further with the dataset or the code to enhance your learning!"
   ]
  }
 ],
 "metadata": {
  "kernelspec": {
   "display_name": "base",
   "language": "python",
   "name": "python3"
  },
  "language_info": {
   "codemirror_mode": {
    "name": "ipython",
    "version": 3
   },
   "file_extension": ".py",
   "mimetype": "text/x-python",
   "name": "python",
   "nbconvert_exporter": "python",
   "pygments_lexer": "ipython3",
   "version": "3.10.10"
  }
 },
 "nbformat": 4,
 "nbformat_minor": 2
}
