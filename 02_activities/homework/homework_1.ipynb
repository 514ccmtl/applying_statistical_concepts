{
 "cells": [
  {
   "cell_type": "markdown",
   "metadata": {},
   "source": [
    "# Homework: Linear Regression with Iris Dataset\n",
    "\n",
    "In this homework, you will work through several questions related to simple linear regression. The dataset we will use is the famous **Iris dataset**, which contains measurements for 150 iris flowers. There are four features in the dataset: sepal length, sepal width, petal length, and petal width, all measured in centimeters. Additionally, the dataset includes the species of the iris flower: Setosa, Versicolor, or Virginica. \n",
    "\n",
    "![](../images/iris_dataset.jpg)\n",
    "\n",
    "Your task is to answer the following questions by performing linear regression on two of these variables, \n",
    "specifically *sepal length* as the predictor and *petal length* as the response."
   ]
  },
  {
   "cell_type": "code",
   "execution_count": 1,
   "metadata": {},
   "outputs": [],
   "source": [
    "# Import necessary libraries\n",
    "import numpy as np\n",
    "import pandas as pd\n",
    "import seaborn as sns\n",
    "import matplotlib.pyplot as plt\n",
    "from sklearn.linear_model import LinearRegression\n",
    "from sklearn.model_selection import train_test_split\n",
    "from sklearn.metrics import mean_squared_error\n",
    "\n",
    "# Load the Iris dataset\n",
    "iris = sns.load_dataset(\"iris\")"
   ]
  },
  {
   "cell_type": "code",
   "execution_count": null,
   "metadata": {},
   "outputs": [],
   "source": [
    "# First, let's explore the dataset\n",
    "iris.head()"
   ]
  },
  {
   "cell_type": "markdown",
   "metadata": {},
   "source": [
    "### Question 1\n",
    "Is there a relationship between the predictor and the response? Choose 'sepal_length' as the predictor and 'petal_length' as the response variable.\n",
    "\n",
    "Task: Plot a scatter plot of sepal_length vs petal_length.\n",
    "Fill the code below:"
   ]
  },
  {
   "cell_type": "code",
   "execution_count": null,
   "metadata": {},
   "outputs": [],
   "source": [
    "plt.figure(figsize=(8,6))\n",
    "\n",
    "# Your code here...\n",
    "\n",
    "plt.show()"
   ]
  },
  {
   "cell_type": "markdown",
   "metadata": {},
   "source": [
    "### Question 2\n",
    "Perform a simple linear regression using sepal_length to predict petal_length.\n",
    "\n",
    "Task: Split the data into training and testing sets (test size = 30%, random_state=42), fit a linear regression model using the training data, and plot the regression line on top of the scatter plot of the original data."
   ]
  },
  {
   "cell_type": "code",
   "execution_count": null,
   "metadata": {},
   "outputs": [],
   "source": [
    "# Prepare the data\n",
    "X = iris[['sepal_length']]  # Predictor\n",
    "y = iris['petal_length']    # Response\n",
    "\n",
    "# Your answer here...\n",
    "\n",
    "# Print the slope and intercept\n",
    "print(f\"Slope (coefficient): {slope}\")\n",
    "print(f\"Intercept: {intercept}\")"
   ]
  },
  {
   "cell_type": "markdown",
   "metadata": {},
   "source": [
    "### Question 3\n",
    "What is the predicted petal length associated with a sepal length of 5.5?\n",
    "\n",
    "Task: Use the fitted model to predict petal length when sepal length is 5.5."
   ]
  },
  {
   "cell_type": "code",
   "execution_count": null,
   "metadata": {},
   "outputs": [],
   "source": [
    "# Your code here...\n",
    "\n",
    "# Print the result\n",
    "print(f\"The predicted petal length for a sepal length of 5.5 cm is: {predicted_petal_length} cm\")"
   ]
  },
  {
   "cell_type": "markdown",
   "metadata": {},
   "source": [
    "### Question 4\n",
    "Evaluate the model\n",
    "Task: Compute the Root Mean Squared Percentage Error (RMSPE) of the model on the test data."
   ]
  },
  {
   "cell_type": "code",
   "execution_count": null,
   "metadata": {},
   "outputs": [],
   "source": [
    "# Your code here...\n",
    "\n",
    "# Print the MSE\n",
    "print(f\"The Mean Squared Error (MSE) of the model on the test data is: {RMSPE}\")"
   ]
  }
 ],
 "metadata": {
  "kernelspec": {
   "display_name": "dsi_participant",
   "language": "python",
   "name": "python3"
  },
  "language_info": {
   "codemirror_mode": {
    "name": "ipython",
    "version": 3
   },
   "file_extension": ".py",
   "mimetype": "text/x-python",
   "name": "python",
   "nbconvert_exporter": "python",
   "pygments_lexer": "ipython3",
   "version": "3.9.19"
  }
 },
 "nbformat": 4,
 "nbformat_minor": 2
}
