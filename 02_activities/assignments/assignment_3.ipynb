{
 "cells": [
  {
   "cell_type": "markdown",
   "id": "7b0bcac6-5086-4f4e-928a-570a9ff7ae58",
   "metadata": {},
   "source": [
    "# Assignment 3"
   ]
  },
  {
   "cell_type": "markdown",
   "id": "5fce0350-2a17-4e93-8d4c-0b8748fdfc32",
   "metadata": {},
   "source": [
    "You only need to write one line of code for each question. When answering questions that ask you to identify or interpret something, the length of your response doesn’t matter. For example, if the answer is just ‘yes,’ ‘no,’ or a number, you can just give that answer without adding anything else.\n",
    "\n",
    "We will go through comparable code and concepts in the live learning session. If you run into trouble, start by using the help `help()` function in Python, to get information about the datasets and function in question. The internet is also a great resource when coding (though note that **no outside searches are required by the assignment!**). If you do incorporate code from the internet, please cite the source within your code (providing a URL is sufficient).\n",
    "\n",
    "Please bring questions that you cannot work out on your own to office hours, work periods or share with your peers on Slack. We will work with you through the issue."
   ]
  },
  {
   "cell_type": "markdown",
   "id": "5fc5001c-7715-4ebe-b0f7-e4bd04349629",
   "metadata": {},
   "source": [
    "### Clustering and Resampling\n",
    "\n",
    "Let's set up our workspace and use the **Iris dataset** from `scikit-learn`. This dataset is a classic dataset in machine learning and statistics, widely used for clustering tasks. It consists of 150 samples of iris flowers, each belonging to one of three species: Iris setosa, Iris versicolor, and Iris virginica. Here are the key features and characteristics of the dataset:\n",
    "\n",
    "##### Features:\n",
    "1. **Sepal Length**: The length of the sepal in centimeters.\n",
    "2. **Sepal Width**: The width of the sepal in centimeters.\n",
    "3. **Petal Length**: The length of the petal in centimeters.\n",
    "4. **Petal Width**: The width of the petal in centimeters.\n",
    "\n",
    "##### Target Variable:\n",
    "- **Species**: The species of the iris flower, which can take one of the following values:\n",
    "  - 0: Iris setosa\n",
    "  - 1: Iris versicolor\n",
    "  - 2: Iris virginica"
   ]
  },
  {
   "cell_type": "code",
   "execution_count": 1,
   "id": "4a3485d6-ba58-4660-a983-5680821c5719",
   "metadata": {},
   "outputs": [],
   "source": [
    "# Import standard libraries\n",
    "import numpy as np\n",
    "import pandas as pd\n",
    "import matplotlib.pyplot as plt\n",
    "from sklearn.preprocessing import StandardScaler\n",
    "from sklearn.cluster import KMeans\n"
   ]
  },
  {
   "cell_type": "markdown",
   "id": "3491d919",
   "metadata": {},
   "source": [
    "#### **Question 1:** \n",
    "#### Data inspection\n",
    "\n",
    "#### Load the Iris dataset:\n",
    "\n",
    "Use scikit-learn to load the Iris dataset and convert it into a Pandas DataFrame.\n",
    "Display the first few rows of the dataset. How many observations (rows) and features (columns) does the dataset contain?"
   ]
  },
  {
   "cell_type": "code",
   "execution_count": null,
   "id": "a431d282-f9ca-4d5d-8912-71ffc9d8ea19",
   "metadata": {},
   "outputs": [],
   "source": [
    "from sklearn.datasets import load_iris\n",
    "# Load the Iris dataset\n",
    "iris_data = load_iris()\n",
    "\n",
    "# Convert to DataFrame\n",
    "iris_df = pd.DataFrame(iris_data.data, columns=iris_data.feature_names)\n",
    "\n",
    "# Bind the disease progression (diabetes target) to the DataFrame\n",
    "iris_df['species'] = iris_data.target\n",
    "\n",
    "# Display the DataFrame\n",
    "iris_df\n",
    "\n",
    "# Your Code...\n"
   ]
  },
  {
   "cell_type": "markdown",
   "id": "fa3832d7",
   "metadata": {},
   "source": [
    "#### **Question 2:** \n",
    "#### Data-visualization\n",
    "\n",
    "Create plots to visualize the relationships between the features (sepal length, sepal width, petal length, petal width).\n"
   ]
  },
  {
   "cell_type": "code",
   "execution_count": 3,
   "id": "efd6dc0c",
   "metadata": {},
   "outputs": [],
   "source": [
    "# Your code here ..."
   ]
  },
  {
   "cell_type": "markdown",
   "id": "a9701cd4",
   "metadata": {},
   "source": [
    "**Follow-up Question:**\n",
    "- Do you notice any patterns or relationships between the different features? How might these patterns help in distinguishing between different species?"
   ]
  },
  {
   "cell_type": "markdown",
   "id": "35308e2c",
   "metadata": {},
   "source": [
    "> Your answer..."
   ]
  },
  {
   "cell_type": "markdown",
   "id": "d596b3af",
   "metadata": {},
   "source": [
    "#### **Question 3:** \n",
    "#### Data cleaning"
   ]
  },
  {
   "cell_type": "code",
   "execution_count": null,
   "id": "b2cfec72",
   "metadata": {},
   "outputs": [],
   "source": [
    "# Initialize the StandardScaler\n",
    "scaler = StandardScaler()\n",
    "\n",
    "# Scale the features (excluding the species column)\n",
    "scaled_features = scaler.fit_transform(iris_df.iloc[:, :-1])\n",
    "\n",
    "# Create a new DataFrame with scaled features\n",
    "scaled_iris_df = pd.DataFrame(scaled_features, columns=iris_data.feature_names)\n",
    "\n",
    "# Add the species column back to the scaled DataFrame\n",
    "scaled_iris_df['species'] = iris_df['species'].values\n",
    "\n",
    "# Display the first few rows of the scaled DataFrame\n",
    "print(scaled_iris_df.head())"
   ]
  },
  {
   "cell_type": "markdown",
   "id": "035fa019",
   "metadata": {},
   "source": [
    "Why is it important to standardize the features of a dataset before applying clustering algorithms like K-Means? Discuss the implications of using unstandardized data in your analysis."
   ]
  },
  {
   "cell_type": "markdown",
   "id": "53d77d5c",
   "metadata": {},
   "source": [
    "> Your answer here ... "
   ]
  },
  {
   "cell_type": "markdown",
   "id": "4604ee03",
   "metadata": {},
   "source": [
    "#### **Question 4:** \n",
    "#### K-means clustering \n",
    "Apply the K-Means clustering algorithm to the Iris dataset.\n",
    "Choose the number of clusters (K=3, since there are three species) and fit the model.\n",
    "Assign cluster labels to the original data and add them as a new column in the DataFrame."
   ]
  },
  {
   "cell_type": "code",
   "execution_count": 5,
   "id": "909df219",
   "metadata": {},
   "outputs": [],
   "source": [
    "# Your answer..."
   ]
  },
  {
   "cell_type": "markdown",
   "id": "0aefdee5",
   "metadata": {},
   "source": [
    "Discuss the results of the K-Means clustering. How well did the clusters match the true species?"
   ]
  },
  {
   "cell_type": "markdown",
   "id": "7bcebc16",
   "metadata": {},
   "source": [
    "> Your answer here ..."
   ]
  },
  {
   "cell_type": "markdown",
   "id": "a6bc2f4f",
   "metadata": {},
   "source": [
    "#### **Question 5:** \n",
    "#### Bootstrapping \n",
    "\n",
    "Implement bootstrapping on the mean of Petal Width. Generate 10000 bootstrap samples, calculate the mean for each sample, and compute a 90% confidence interval.\n",
    "\n",
    "hint: `use np.random.seed(123)`"
   ]
  },
  {
   "cell_type": "code",
   "execution_count": null,
   "id": "be4c4011",
   "metadata": {},
   "outputs": [],
   "source": [
    "# Your answer here...\n",
    "\n",
    "mean_petal_width = 🤷‍♂️\n",
    "\n",
    "np.random.seed(123)\n",
    "\n",
    "lower_bound = 🤷‍♂️\n",
    "upper_bound = 🤷‍♂️\n",
    "\n",
    "# Display the result\n",
    "print(f\"Mean of Petal Width: {mean_petal_width}\")\n",
    "print(f\"90% Confidence Interval of Mean Petal Width: ({lower_bound}, {upper_bound})\")"
   ]
  },
  {
   "cell_type": "markdown",
   "id": "b9f73843",
   "metadata": {},
   "source": [
    "**Question:**\n",
    "- Why do we use bootstrapping in this context? What does it help us understand about the mean?"
   ]
  },
  {
   "cell_type": "markdown",
   "id": "16a6e104",
   "metadata": {},
   "source": [
    ">  Your answer..."
   ]
  },
  {
   "cell_type": "markdown",
   "id": "0741b2ca",
   "metadata": {},
   "source": [
    "**Question:**\n",
    "- What is the purpose of calculating the confidence interval from the bootstrap samples? How does it help us interpret the variability of the estimate?"
   ]
  },
  {
   "cell_type": "markdown",
   "id": "e5be82ec",
   "metadata": {},
   "source": [
    "> Your answer..."
   ]
  },
  {
   "cell_type": "markdown",
   "id": "29096311",
   "metadata": {},
   "source": [
    "**Question:**\n",
    "\n",
    "- Reflect on the variability observed in the bootstrapped means and discuss whether the mean of the Petal Width appears to be a stable and reliable estimate based on the confidence interval and the spread of the bootstrapped means."
   ]
  },
  {
   "cell_type": "markdown",
   "id": "0a7e6778",
   "metadata": {},
   "source": [
    "> Your answer here..."
   ]
  },
  {
   "cell_type": "markdown",
   "id": "6f8a69db",
   "metadata": {},
   "source": [
    "# Criteria\n",
    "\n",
    "\n",
    "| **Criteria**                                           | **Complete**                                      | **Incomplete**                                    |\n",
    "|--------------------------------------------------------|---------------------------------------------------|--------------------------------------------------|\n",
    "| **Data Inspection**                                    | Data is thoroughly inspected for the number of variables, observations, and data types, and relevant insights are noted. | Data inspection is missing or lacks detail.         |\n",
    "| **Data Visualization**                                 | Visualizations (e.g., scatter plots) are well-constructed and correctly interpreted to explore relationships between features and species. | Visualizations are poorly constructed or not correctly interpreted. |\n",
    "| **Clustering Implementation**                           | K-Means clustering is correctly implemented, and cluster labels are appropriately assigned to the dataset.            | K-Means clustering is missing or incorrectly implemented. |\n",
    "| **Bootstrapping Process**                              | Bootstrapping is correctly performed, and results are used to assess variable mean stability. | Bootstrapping is missing or incorrectly performed. |"
   ]
  },
  {
   "cell_type": "markdown",
   "id": "0b4390cc",
   "metadata": {},
   "source": [
    "## Submission Information\n",
    "\n",
    "🚨 **Please review our [Assignment Submission Guide](https://github.com/UofT-DSI/onboarding/blob/main/onboarding_documents/submissions.md)** 🚨 for detailed instructions on how to format, branch, and submit your work. Following these guidelines is crucial for your submissions to be evaluated correctly.\n",
    "\n",
    "### Note:\n",
    "\n",
    "If you like, you may collaborate with others in the cohort. If you choose to do so, please indicate with whom you have worked with in your pull request by tagging their GitHub username. Separate submissions are required.\n",
    "\n",
    "### Submission Parameters:\n",
    "* Submission Due Date: `HH:MM AM/PM - DD/MM/YYYY`\n",
    "* The branch name for your repo should be: `assignment-3`\n",
    "* What to submit for this assignment:\n",
    "    * This Jupyter Notebook (assignment_1.ipynb) should be populated and should be the only change in your pull request.\n",
    "* What the pull request link should look like for this assignment: `https://github.com/<your_github_username>/applying_statistical_concepts/pull/<pr_id>`\n",
    "    * Open a private window in your browser. Copy and paste the link to your pull request into the address bar. Make sure you can see your pull request properly. This helps the technical facilitator and learning support staff review your submission easily.\n",
    "\n",
    "Checklist:\n",
    "- [ ] Created a branch with the correct naming convention.\n",
    "- [ ] Ensured that the repository is public.\n",
    "- [ ] Reviewed the PR description guidelines and adhered to them.\n",
    "- [ ] Verify that the link is accessible in a private browser window.\n",
    "\n",
    "If you encounter any difficulties or have questions, please don't hesitate to reach out to our team via our Slack at `#cohort-4-help`. Our Technical Facilitators and Learning Support staff are here to help you navigate any challenges.\n"
   ]
  }
 ],
 "metadata": {
  "kernelspec": {
   "display_name": "Python 3.10.4",
   "language": "python",
   "name": "python3"
  },
  "language_info": {
   "codemirror_mode": {
    "name": "ipython",
    "version": 3
   },
   "file_extension": ".py",
   "mimetype": "text/x-python",
   "name": "python",
   "nbconvert_exporter": "python",
   "pygments_lexer": "ipython3",
   "version": "3.9.19"
  },
  "vscode": {
   "interpreter": {
    "hash": "497a84dc8fec8cf8d24e7e87b6d954c9a18a327edc66feb9b9ea7e9e72cc5c7e"
   }
  }
 },
 "nbformat": 4,
 "nbformat_minor": 5
}
