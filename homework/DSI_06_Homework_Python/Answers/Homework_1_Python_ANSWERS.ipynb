{
 "cells": [
  {
   "cell_type": "markdown",
   "id": "0189dcff-8817-43f8-b4a6-cc0e0868df5c",
   "metadata": {},
   "source": [
    "# DSI-06 Homework 1 (Python) ANSWERS"
   ]
  },
  {
   "cell_type": "markdown",
   "id": "722ed3fc-23dd-4375-acf9-95ec5548e72e",
   "metadata": {},
   "source": [
    "### 8. This question involves the use of simple linear regression on the Auto data set."
   ]
  },
  {
   "cell_type": "markdown",
   "id": "f213e414-c961-4700-a4b9-fe9c77e1fd7c",
   "metadata": {},
   "source": [
    "#### Import libraries and specific objects"
   ]
  },
  {
   "cell_type": "code",
   "execution_count": 35,
   "id": "c3df7211-df23-49e6-b5d3-1cb4155736c0",
   "metadata": {},
   "outputs": [],
   "source": [
    "import numpy as np\n",
    "import pandas as pd\n",
    "from matplotlib.pyplot import subplots\n",
    "import statsmodels.api as sm\n",
    "\n",
    "from ISLP import load_data\n",
    "from ISLP.models import (ModelSpec as MS,\n",
    "                         summarize,\n",
    "                         poly)"
   ]
  },
  {
   "cell_type": "markdown",
   "id": "85893497-81e8-4736-9010-cdc68d5e507f",
   "metadata": {},
   "source": [
    "#### Load 'Auto' data set"
   ]
  },
  {
   "cell_type": "code",
   "execution_count": 13,
   "id": "953dc2a3-608d-4984-ae45-53d7c1d02029",
   "metadata": {},
   "outputs": [
    {
     "data": {
      "text/plain": [
       "Index(['mpg', 'cylinders', 'displacement', 'horsepower', 'weight',\n",
       "       'acceleration', 'year', 'origin', 'name'],\n",
       "      dtype='object')"
      ]
     },
     "execution_count": 13,
     "metadata": {},
     "output_type": "execute_result"
    }
   ],
   "source": [
    "Auto = load_data(\"Auto\")\n",
    "Auto.columns # to see associated variables"
   ]
  },
  {
   "cell_type": "code",
   "execution_count": 43,
   "id": "95249b76-da33-421b-8bcc-296d37c6d816",
   "metadata": {},
   "outputs": [
    {
     "name": "stdout",
     "output_type": "stream",
     "text": [
      "      mpg  cylinders  displacement  horsepower  weight  acceleration  year  \\\n",
      "0    18.0          8         307.0         130    3504          12.0    70   \n",
      "1    15.0          8         350.0         165    3693          11.5    70   \n",
      "2    18.0          8         318.0         150    3436          11.0    70   \n",
      "3    16.0          8         304.0         150    3433          12.0    70   \n",
      "4    17.0          8         302.0         140    3449          10.5    70   \n",
      "..    ...        ...           ...         ...     ...           ...   ...   \n",
      "387  27.0          4         140.0          86    2790          15.6    82   \n",
      "388  44.0          4          97.0          52    2130          24.6    82   \n",
      "389  32.0          4         135.0          84    2295          11.6    82   \n",
      "390  28.0          4         120.0          79    2625          18.6    82   \n",
      "391  31.0          4         119.0          82    2720          19.4    82   \n",
      "\n",
      "     origin                       name  \n",
      "0         1  chevrolet chevelle malibu  \n",
      "1         1          buick skylark 320  \n",
      "2         1         plymouth satellite  \n",
      "3         1              amc rebel sst  \n",
      "4         1                ford torino  \n",
      "..      ...                        ...  \n",
      "387       1            ford mustang gl  \n",
      "388       2                  vw pickup  \n",
      "389       1              dodge rampage  \n",
      "390       1                ford ranger  \n",
      "391       1                 chevy s-10  \n",
      "\n",
      "[392 rows x 9 columns]\n"
     ]
    }
   ],
   "source": [
    "print(Auto) # return column names and first few rows of the data set"
   ]
  },
  {
   "attachments": {},
   "cell_type": "markdown",
   "id": "b3cf4db3-5163-4233-96c7-fb9415566b30",
   "metadata": {},
   "source": [
    "#### a)\tUse the *sm.OLS()* function to perform a simple linear regression with *mpg* as the response and *horsepower* as the predictor. Use the *summarize()* function to print the results. Comment on the output. For example:"
   ]
  },
  {
   "attachments": {},
   "cell_type": "markdown",
   "id": "99a87066-cf5e-43c2-ab74-935b7f1b0d41",
   "metadata": {},
   "source": [
    "i. Is there a relationship between the predictor and the response? \n",
    "\n",
    "ii. How strong is the relationship between the predictor and the response?\n",
    "\n",
    "iii. Is the relationship between the predictor and the response positive or negative?\n",
    "\n",
    "iv. What is the predicted mpg associated with a horsepower of 98? What are the associated 95 % confidence and prediction intervals?\n"
   ]
  },
  {
   "cell_type": "code",
   "execution_count": 18,
   "id": "209f1542-801a-4756-826e-b1a33de82f29",
   "metadata": {},
   "outputs": [],
   "source": [
    "Y = Auto['mpg']         # Response variable\n",
    "X = Auto['horsepower']  # Predictor variable"
   ]
  },
  {
   "cell_type": "code",
   "execution_count": 46,
   "id": "76187742-7d8f-4944-9fd5-a14d068d78e8",
   "metadata": {},
   "outputs": [],
   "source": [
    "# Use the lm() function to fit our linear regression: lm(y ~ x)\n",
    "# Extract results and fit model\n",
    "y = Auto['mpg']\n",
    "model = sm.OLS(y, X)\n",
    "results = model.fit()"
   ]
  },
  {
   "cell_type": "code",
   "execution_count": 48,
   "id": "848d2ba5-7489-47fd-a8b6-4d110d9719ff",
   "metadata": {},
   "outputs": [
    {
     "name": "stdout",
     "output_type": "stream",
     "text": [
      "                                 OLS Regression Results                                \n",
      "=======================================================================================\n",
      "Dep. Variable:                    mpg   R-squared (uncentered):                   0.649\n",
      "Model:                            OLS   Adj. R-squared (uncentered):              0.648\n",
      "Method:                 Least Squares   F-statistic:                              723.7\n",
      "Date:                Sat, 28 Oct 2023   Prob (F-statistic):                    5.67e-91\n",
      "Time:                        20:04:43   Log-Likelihood:                         -1608.1\n",
      "No. Observations:                 392   AIC:                                      3218.\n",
      "Df Residuals:                     391   BIC:                                      3222.\n",
      "Df Model:                           1                                                  \n",
      "Covariance Type:            nonrobust                                                  \n",
      "==============================================================================\n",
      "                 coef    std err          t      P>|t|      [0.025      0.975]\n",
      "------------------------------------------------------------------------------\n",
      "horsepower     0.1788      0.007     26.901      0.000       0.166       0.192\n",
      "==============================================================================\n",
      "Omnibus:                       13.847   Durbin-Watson:                   0.471\n",
      "Prob(Omnibus):                  0.001   Jarque-Bera (JB):                9.780\n",
      "Skew:                          -0.268   Prob(JB):                      0.00752\n",
      "Kurtosis:                       2.442   Cond. No.                         1.00\n",
      "==============================================================================\n",
      "\n",
      "Notes:\n",
      "[1] R² is computed without centering (uncentered) since the model does not contain a constant.\n",
      "[2] Standard Errors assume that the covariance matrix of the errors is correctly specified.\n"
     ]
    }
   ],
   "source": [
    "# Use the 'print' function to see full model summary\n",
    "print(Auto_model.summary())"
   ]
  },
  {
   "cell_type": "code",
   "execution_count": 41,
   "id": "facf1c83-d328-4147-859d-7f6908ad53a9",
   "metadata": {},
   "outputs": [
    {
     "data": {
      "text/html": [
       "<div>\n",
       "<style scoped>\n",
       "    .dataframe tbody tr th:only-of-type {\n",
       "        vertical-align: middle;\n",
       "    }\n",
       "\n",
       "    .dataframe tbody tr th {\n",
       "        vertical-align: top;\n",
       "    }\n",
       "\n",
       "    .dataframe thead th {\n",
       "        text-align: right;\n",
       "    }\n",
       "</style>\n",
       "<table border=\"1\" class=\"dataframe\">\n",
       "  <thead>\n",
       "    <tr style=\"text-align: right;\">\n",
       "      <th></th>\n",
       "      <th>coef</th>\n",
       "      <th>std err</th>\n",
       "      <th>t</th>\n",
       "      <th>P&gt;|t|</th>\n",
       "    </tr>\n",
       "  </thead>\n",
       "  <tbody>\n",
       "    <tr>\n",
       "      <th>horsepower</th>\n",
       "      <td>0.1788</td>\n",
       "      <td>0.007</td>\n",
       "      <td>26.901</td>\n",
       "      <td>0.0</td>\n",
       "    </tr>\n",
       "  </tbody>\n",
       "</table>\n",
       "</div>"
      ],
      "text/plain": [
       "              coef  std err       t  P>|t|\n",
       "horsepower  0.1788    0.007  26.901    0.0"
      ]
     },
     "execution_count": 41,
     "metadata": {},
     "output_type": "execute_result"
    }
   ],
   "source": [
    "# Summarize model results using the summarize() function\n",
    "summarize(Auto_model)"
   ]
  },
  {
   "cell_type": "code",
   "execution_count": 50,
   "id": "e84804e5-a74b-4c20-832f-84d8863115cf",
   "metadata": {},
   "outputs": [
    {
     "data": {
      "text/plain": [
       "horsepower    0.17884\n",
       "dtype: float64"
      ]
     },
     "execution_count": 50,
     "metadata": {},
     "output_type": "execute_result"
    }
   ],
   "source": [
    "# The fitted coefficients can be retrieved using the 'params' attribute of results\n",
    "Auto_model.params"
   ]
  },
  {
   "cell_type": "markdown",
   "id": "eac4232c-9526-47aa-aa85-b1ba846b9d52",
   "metadata": {},
   "source": [
    "i) So we have the coefficient estimates, their associated standard errors, and the t-statistic and p-value\n",
    "associated with the hypothesis test H0 : 1 = 0. The p-value for this test is significant so we can\n",
    "conclude there is a relationship between mpg and horsepower.\n",
    "\n",
    "ii) According to the summary table, the R^2 value indicates that about 64.9% of the explained variance\n",
    "in mpg is due to horsepower.\n",
    "\n",
    "iii) The t-statistic is negative, so we can conclude there is a negative relationship between mpg and horsepower."
   ]
  },
  {
   "cell_type": "code",
   "execution_count": 58,
   "id": "61aead7b-3854-48cb-9b5f-5bb6f76f8422",
   "metadata": {},
   "outputs": [
    {
     "ename": "NameError",
     "evalue": "name 'get_prediction' is not defined",
     "output_type": "error",
     "traceback": [
      "\u001b[0;31m---------------------------------------------------------------------------\u001b[0m",
      "\u001b[0;31mNameError\u001b[0m                                 Traceback (most recent call last)",
      "Cell \u001b[0;32mIn[58], line 2\u001b[0m\n\u001b[1;32m      1\u001b[0m \u001b[38;5;66;03m# uses the get_prediction() function\u001b[39;00m\n\u001b[0;32m----> 2\u001b[0m \u001b[43mget_prediction\u001b[49m()\n",
      "\u001b[0;31mNameError\u001b[0m: name 'get_prediction' is not defined"
     ]
    }
   ],
   "source": [
    "# uses the get_prediction() function\n",
    "get_prediction()"
   ]
  },
  {
   "cell_type": "code",
   "execution_count": null,
   "id": "6570cdce-3b38-4d15-bcd2-4c678ad29c87",
   "metadata": {},
   "outputs": [],
   "source": []
  }
 ],
 "metadata": {
  "kernelspec": {
   "display_name": "Python 3 (ipykernel)",
   "language": "python",
   "name": "python3"
  },
  "language_info": {
   "codemirror_mode": {
    "name": "ipython",
    "version": 3
   },
   "file_extension": ".py",
   "mimetype": "text/x-python",
   "name": "python",
   "nbconvert_exporter": "python",
   "pygments_lexer": "ipython3",
   "version": "3.11.5"
  }
 },
 "nbformat": 4,
 "nbformat_minor": 5
}
