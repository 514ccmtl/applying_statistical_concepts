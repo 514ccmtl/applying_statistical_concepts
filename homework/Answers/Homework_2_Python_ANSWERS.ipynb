{
 "cells": [
  {
   "attachments": {},
   "cell_type": "markdown",
   "id": "3fb8fab1-f373-43a6-bdfd-0e36cdbe43e5",
   "metadata": {},
   "source": [
    "## DSI-06 Homework 2: ANSWERS\n",
    "From Chapter 3, found on pages 129-130 of ISLP\n",
    "\n",
    "*This question involves the use of simple linear regression on the Auto data set*"
   ]
  },
  {
   "cell_type": "code",
   "execution_count": null,
   "id": "73414257-bccd-461f-813a-f1b9758ea1fc",
   "metadata": {},
   "outputs": [],
   "source": [
    "# Import standard libraries\n",
    "import numpy as np\n",
    "import pandas as pd\n",
    "import seaborn as sns\n",
    "import matplotlib.pyplot as plt\n",
    "from matplotlib.pyplot import subplots\n",
    "import statsmodels.api as sm\n",
    "import warnings # for muting warning messages\n",
    "\n",
    "# mute warning messages\n",
    "warnings.filterwarnings('ignore')\n",
    "# Import specific objects\n",
    "from statsmodels.graphics.gofplots import ProbPlot\n",
    "from statsmodels.stats.outliers_influence import OLSInfluence\n",
    "from ISLP import load_data\n",
    "from ISLP.models import (ModelSpec as MS,\n",
    "                         summarize,\n",
    "                         poly)\n",
    "\n",
    "# Load dataset\n",
    "Auto = load_data('Auto')\n",
    "Auto"
   ]
  },
  {
   "cell_type": "markdown",
   "id": "3e21f570-dc3e-4192-84d0-468c58ec35e0",
   "metadata": {},
   "source": [
    "a)\tProduce a scatterplot matrix which includes all of the variables in the data set."
   ]
  },
  {
   "cell_type": "code",
   "execution_count": null,
   "id": "8a82dda2-c5ef-4c9b-8eb3-9435044f9b61",
   "metadata": {},
   "outputs": [],
   "source": [
    "numeric_columns = Auto.select_dtypes(include=['float64', 'int64'])\n",
    "\n",
    "# Create a scatterplot matrix\n",
    "sns.set(style=\"ticks\")\n",
    "sns.pairplot(numeric_columns)\n",
    "plt.show()"
   ]
  },
  {
   "cell_type": "markdown",
   "id": "fa0639bc-bc10-433b-b720-b431e0549acd",
   "metadata": {},
   "source": [
    "b)\tCompute the matrix of correlations between the variables using the `DataFrame.corr()` method."
   ]
  },
  {
   "cell_type": "code",
   "execution_count": null,
   "id": "fac805f2-b26c-453d-8536-7456d5fa5822",
   "metadata": {},
   "outputs": [],
   "source": [
    "# Compute\n",
    "correlation_matrix = Auto.corr()\n",
    "\n",
    "# Display the correlation matrix\n",
    "print(correlation_matrix)"
   ]
  },
  {
   "attachments": {},
   "cell_type": "markdown",
   "id": "c317e651-94a3-481c-8f2e-d7a515f67f0f",
   "metadata": {},
   "source": [
    "c) Use the `sm.OLS()` function to perform a multiple linear regression with mpg as the response and all other variables except name as the predictors. Use the `summarize()` function to print the results. Comment on the output: \n",
    "\n",
    "(i)  Is there a relationship between the predictors and the response? Use the anova_lm() function from statsmodels to answer this question\n",
    "\n",
    "*We see there is a relationship between the predictors and the response (large F-statistic, p-value for the\n",
    "overall model is significant.*\n",
    "\n",
    "(ii) Which predictors appear to have a statistically significant relationship to the response?\n",
    "\n",
    "*Displacement, weight, year and origin seem to have a statistically significant relationship to mpg (sig p-values)*\n",
    "\n",
    "(iii) What does the coefficient for the year variable suggest?\n",
    "\n",
    "*The coefficient for the year variable suggests, per every unit increase of year there is a corresponding\n",
    "increase in mpg by 0.7508, assuming all other predictors are held constant.*"
   ]
  },
  {
   "cell_type": "code",
   "execution_count": null,
   "id": "b0a9afc3-96b9-46c6-92a2-75b8006aca32",
   "metadata": {},
   "outputs": [],
   "source": [
    "X = Auto.drop(['mpg', 'name'], axis=1)  # Exclude 'name' and 'mpg'\n",
    "y = Auto['mpg']  # Response variable\n",
    "\n",
    "# Add a constant term to the predictors (intercept)\n",
    "X = sm.add_constant(X)\n",
    "\n",
    "# Fit the OLS model\n",
    "model = sm.OLS(y, X)\n",
    "results = model.fit()\n",
    "\n",
    "# Print the regression results summary\n",
    "print(results.summary())"
   ]
  },
  {
   "cell_type": "code",
   "execution_count": null,
   "id": "c8ec3827-6a93-468f-b924-75efba640e87",
   "metadata": {},
   "outputs": [],
   "source": [
    "summarize(results)"
   ]
  },
  {
   "cell_type": "markdown",
   "id": "e53adb01-13a0-4868-a189-ce5c21c2e386",
   "metadata": {},
   "source": [
    "d) Produce some of diagnostic plots of the linear regression fit as described in the lab. Comment on any problems you see with the fit. Do the residual plots suggest any unusually large outliers? Does the leverage plot identify any observations with unusually high leverage?"
   ]
  },
  {
   "cell_type": "code",
   "execution_count": null,
   "id": "d8f1687b-dc49-499a-85e1-fa9efb085558",
   "metadata": {},
   "outputs": [],
   "source": [
    "# Residuals vs Fitted Values\n",
    "fitted_values = results.fittedvalues\n",
    "residuals = results.resid\n",
    "\n",
    "plt.scatter(fitted_values, residuals)\n",
    "plt.xlabel('Fitted Values')\n",
    "plt.ylabel('Residuals')\n",
    "plt.title('Residuals vs Fitted Values')\n",
    "plt.axhline(y=0, color='r', linestyle='--')\n",
    "plt.show()"
   ]
  },
  {
   "cell_type": "markdown",
   "id": "a464398c-8caa-46e2-a187-f5a3536aa8ad",
   "metadata": {},
   "source": [
    "There is a slight trend in the residuals illustrated by the red curve which could indicate patterns in the data\n",
    "that are not captured by the linear model."
   ]
  },
  {
   "cell_type": "code",
   "execution_count": null,
   "id": "04711e89-8bf9-425f-94f7-a5f19f7ec09f",
   "metadata": {},
   "outputs": [],
   "source": [
    "# QQ Plot\n",
    "qq_plot = ProbPlot(residuals)\n",
    "qq_plot.qqplot(line='45', alpha=0.5, color='#4C72B0', lw=1)\n",
    "plt.title('Normal Q-Q Plot')\n",
    "plt.show()"
   ]
  },
  {
   "cell_type": "markdown",
   "id": "bc10b087-f7e2-4202-8092-d3f3b6e2f2f6",
   "metadata": {},
   "source": [
    "The Q-Q plot shows some linearity of the data up to the 2nd theoretical quantile, however after that the\n",
    "residuals vs fitted plot seems to deviate from the line."
   ]
  },
  {
   "attachments": {},
   "cell_type": "markdown",
   "id": "89c79ebc-f721-46a4-9d54-7328194a3c51",
   "metadata": {},
   "source": [
    "e) Fit some models with interactions as described in the lab. Do any interactions appear to be statistically significant?"
   ]
  },
  {
   "cell_type": "markdown",
   "id": "94de512c-116d-4a7d-a02a-1be389472790",
   "metadata": {},
   "source": [
    "f) Try a few different transformations of the variables, such as log⁡(X),√X,X^2. Comment on your findings."
   ]
  }
 ],
 "metadata": {
  "kernelspec": {
   "display_name": "Python 3 (ipykernel)",
   "language": "python",
   "name": "python3"
  },
  "language_info": {
   "codemirror_mode": {
    "name": "ipython",
    "version": 3
   },
   "file_extension": ".py",
   "mimetype": "text/x-python",
   "name": "python",
   "nbconvert_exporter": "python",
   "pygments_lexer": "ipython3",
   "version": "3.11.6"
  }
 },
 "nbformat": 4,
 "nbformat_minor": 5
}
