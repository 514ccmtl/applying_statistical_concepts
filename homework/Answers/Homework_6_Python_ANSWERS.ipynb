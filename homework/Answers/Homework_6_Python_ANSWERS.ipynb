{
 "cells": [
  {
   "attachments": {},
   "cell_type": "markdown",
   "id": "88a9ed01-d151-49bb-8fcb-4a44200e1e13",
   "metadata": {},
   "source": [
    "## DSI-06 Homework 6: ANSWERS\n",
    "From Chapter 7, found on page 327 of ISLP\n",
    "\n",
    "*This question uses the variables `dis` (the weighted mean of distances to five Boston employment centers) and `nox` (nitrogen oxides concentration in parts per 10 million) from the `Boston` data. We will treat `dis` as the predictor and `nox` as the response.*"
   ]
  },
  {
   "cell_type": "code",
   "execution_count": null,
   "id": "5f1151d2-c5fd-4ae0-a18f-1101d75c3665",
   "metadata": {},
   "outputs": [],
   "source": [
    "# Import libraries and specific objects\n",
    "import numpy as np\n",
    "import pandas as pd\n",
    "import seaborn as sns\n",
    "import matplotlib.pyplot as plt\n",
    "from matplotlib.pyplot import subplots\n",
    "import statsmodels.api as sm\n",
    "import random\n",
    "import patsy \n",
    "from ISLP import load_data\n",
    "from ISLP.models import (ModelSpec as MS,\n",
    "                         summarize)\n",
    "from sklearn.metrics import mean_squared_error\n",
    "from sklearn.preprocessing import PolynomialFeatures\n",
    "from patsy import dmatrix\n",
    "from sklearn.pipeline import make_pipeline\n",
    "from sklearn.model_selection import cross_val_score\n",
    "from statsmodels.stats.anova import anova_lm\n",
    "\n",
    "# Load Default data\n",
    "Boston = load_data('Boston')\n",
    "Boston"
   ]
  },
  {
   "cell_type": "markdown",
   "id": "4eddbdbc-6b3c-4ff0-baf8-ef861aabf031",
   "metadata": {},
   "source": [
    "(a)  Use the `poly()` function to fit a cubic polynomial regression to predict nox using dis. Report the regression output, and plot the resulting data and polynomial fits."
   ]
  },
  {
   "cell_type": "code",
   "execution_count": null,
   "id": "4c4560d2-170c-4bcb-bb2f-b8d91143cf86",
   "metadata": {},
   "outputs": [],
   "source": [
    "# Create polynomial features using numpy\n",
    "Boston['dis_poly'] = np.power(Boston['dis'], 3)\n",
    "\n",
    "# Fit a cubic polynomial regression\n",
    "poly_fit = sm.OLS.from_formula('nox ~ dis_poly', data=Boston).fit()\n",
    "\n",
    "# Print regression output\n",
    "print(poly_fit.summary())"
   ]
  },
  {
   "cell_type": "code",
   "execution_count": null,
   "id": "32dcf44e-03c8-4d5f-bada-8654582150dc",
   "metadata": {},
   "outputs": [],
   "source": [
    "# Generate a range of 'dis' values for predictions\n",
    "dis_range = np.linspace(min(Boston['dis']), max(Boston['dis']), 100)\n",
    "dis_poly_range = np.power(dis_range, 3)\n",
    "\n",
    "# Predict response and standard errors\n",
    "pred = poly_fit.get_prediction({'dis_poly': dis_poly_range})\n",
    "conf_int = pred.conf_int()\n",
    "\n",
    "# Create a dataframe with predictions and confidence intervals\n",
    "predictions = pd.DataFrame({\n",
    "    'DIS': dis_range,\n",
    "    'NOX': pred.predicted_mean,\n",
    "    'upper': conf_int[:, 1],\n",
    "    'lower': conf_int[:, 0]\n",
    "})\n",
    "\n",
    "# Plot the observed values, predicted values, and confidence intervals\n",
    "plt.scatter(Boston['dis'], Boston['nox'], color='black', alpha=0.2, label='Observed Values')\n",
    "plt.plot(predictions['DIS'], predictions['NOX'], color='blue', linewidth=1.5, label='Predicted Values')\n",
    "plt.fill_between(predictions['DIS'], predictions['lower'], predictions['upper'], alpha=0.2, label='95% Confidence Interval')\n",
    "plt.xlabel('dis')\n",
    "plt.ylabel('nox')\n",
    "plt.legend()\n",
    "plt.show()"
   ]
  },
  {
   "cell_type": "markdown",
   "id": "ccdf1d96-3346-4525-86d7-cef168265996",
   "metadata": {},
   "source": [
    "(b) Plot the polynomial fits for a range of different polynomial degrees (say, from 1 to 10), and report the associated residual sum of squares."
   ]
  },
  {
   "cell_type": "code",
   "execution_count": null,
   "id": "5c64a67d-dec8-4d98-a876-70524a30607f",
   "metadata": {},
   "outputs": [],
   "source": [
    "# Set the range of polynomial degrees\n",
    "range_poly = range(1, 11)\n",
    "\n",
    "# Initialize a figure for plotting\n",
    "plt.figure(figsize=(12, 8))\n",
    "\n",
    "# Iterate over polynomial degrees\n",
    "for degrees in range_poly:\n",
    "    # Create polynomial features using patsy\n",
    "    formula = f'nox ~ bs(dis, degree={degrees}, include_intercept=False, df=11)'\n",
    "    y, X = patsy.dmatrices(formula, Boston, return_type='dataframe')\n",
    "\n",
    "    # Fit a polynomial regression\n",
    "    poly_fit = sm.OLS(y, X).fit()\n",
    "\n",
    "    # Generate a range of 'dis' values for predictions\n",
    "    dis_range = np.linspace(min(Boston['dis']), max(Boston['dis']), 100)\n",
    "    X_range = patsy.build_design_matrices([X.design_info], {'dis': dis_range})[0]\n",
    "\n",
    "    # Predict response\n",
    "    nox_pred = poly_fit.predict(X_range)\n",
    "\n",
    "    # Plot the data and polynomial fit\n",
    "    plt.scatter(Boston['dis'], Boston['nox'], alpha=0.2, label='Observed Data')\n",
    "    plt.plot(dis_range, nox_pred, label=f'{degrees} degrees Polynomial Fit')\n",
    "\n",
    "    # Calculate and print residual sum of squares\n",
    "    errors = np.sum(np.square(poly_fit.resid)) / (len(Boston) - len(poly_fit.params))\n",
    "    print(f\"Residual sum of squares for {degrees} degrees: {errors}\")\n",
    "\n",
    "# Add labels and legend to the plot\n",
    "plt.xlabel('dis')\n",
    "plt.ylabel('nox')\n",
    "plt.legend()\n",
    "plt.title('Polynomial Fits for Different Degrees')\n",
    "plt.show()"
   ]
  },
  {
   "cell_type": "markdown",
   "id": "8116aaba-aa69-4b1a-be47-e976254a76c4",
   "metadata": {},
   "source": [
    "(c)  Perform cross-validation or another approach (hint: *anova*) to select the optimal degree for the polynomial, and explain your results."
   ]
  },
  {
   "cell_type": "code",
   "execution_count": null,
   "id": "64bd665d-1c42-4345-b771-139dcdf07152",
   "metadata": {},
   "outputs": [],
   "source": [
    "from sklearn.linear_model import LinearRegression\n",
    "\n",
    "np.random.seed(16)\n",
    "range_poly = np.arange(1, 11)\n",
    "cv_error = np.empty(10)\n",
    "\n",
    "for degrees in range_poly:\n",
    "    poly_model = make_pipeline(PolynomialFeatures(degrees), LinearRegression())\n",
    "    cv_error[degrees - 1] = -np.mean(cross_val_score(poly_model, Boston[['dis']], Boston['nox'], scoring='neg_mean_squared_error', cv=10))\n",
    "\n",
    "best_degree = np.argmin(cv_error) + 1\n",
    "print(f\"The best polynomial degree is: {best_degree}\")"
   ]
  },
  {
   "cell_type": "markdown",
   "id": "20a232b1-0419-4847-bd92-d3ed7417288d",
   "metadata": {},
   "source": [
    "Alternatively, we can use an Anova to compare the 10 degrees"
   ]
  },
  {
   "cell_type": "code",
   "execution_count": null,
   "id": "3c5c7c2f-e09b-4a11-a59d-a50689e82737",
   "metadata": {},
   "outputs": [],
   "source": [
    "degrees = np.arange(1, 11)\n",
    "\n",
    "# Fit polynomial models and store them in a list\n",
    "poly_fits = [sm.OLS(Boston['nox'], sm.add_constant(PolynomialFeatures(degree).fit_transform(Boston[['dis']])))\n",
    "             .fit() for degree in degrees]\n",
    "\n",
    "# Perform ANOVA\n",
    "anova_table = sm.stats.anova_lm(*poly_fits)\n",
    "print(anova_table)"
   ]
  },
  {
   "cell_type": "markdown",
   "id": "a7947123-d90c-4b1e-a403-2897384d1529",
   "metadata": {},
   "source": [
    "The p-values from the ANOVA indicate that we can reject the null hypothesis when compare model 1 to\n",
    "model 2 and model 2 to model 3. This means that both the linear and quadratic models are not sufficient to\n",
    "explain the data. The p-value for the comparison of model 3 and 4 is not significant so we could say that\n",
    "a 3rd degree polynomial is sufficient to explain the data over the 4th. In this case, 3rd degree polynomial\n",
    "would be sufficient to explain the data, similar to what was found using CV."
   ]
  },
  {
   "cell_type": "markdown",
   "id": "2c691385-a439-406a-849a-68c7587222c4",
   "metadata": {},
   "source": [
    "(d) Use the `bs()` function to fit a regression spline to predict nox using dis. Report the output for the fit using four degrees of freedom. How did you choose the knots? Plot the resulting fit."
   ]
  },
  {
   "cell_type": "code",
   "execution_count": null,
   "id": "18e4a4d9-d483-4dc6-9baf-13b8178f349e",
   "metadata": {},
   "outputs": [],
   "source": [
    "# Fit a cubic B-spline with 4 degrees of freedom\n",
    "spline_formula = 'nox ~ bs(dis, df=4, degree=3, include_intercept=True) - 1'\n",
    "y, X = patsy.dmatrices(spline_formula, Boston, return_type='dataframe')\n",
    "\n",
    "# Fit the spline model\n",
    "spline_fit = sm.OLS(y, X).fit()\n",
    "\n",
    "# Print summary\n",
    "print(spline_fit.summary())"
   ]
  },
  {
   "cell_type": "markdown",
   "id": "0a3d49bb-84e9-4c79-89b6-e7c0e55c7182",
   "metadata": {},
   "source": [
    "(e)  Now fit a regression spline for a range of degrees of freedom, and plot the resulting fits and report the resulting RSS. Describe the results obtained."
   ]
  },
  {
   "cell_type": "code",
   "execution_count": null,
   "id": "12a26663-486a-4aaf-9e56-a3daf1a31392",
   "metadata": {},
   "outputs": [],
   "source": [
    "# Set the range of spline degrees\n",
    "range_splines = range(3, 11)\n",
    "\n",
    "for spline_degree in range_splines:\n",
    "    # Fit a spline model\n",
    "    formula = f'nox ~ bs(dis, df={spline_degree}) - 1'\n",
    "    spline_fit = sm.OLS.from_formula(formula, data=Boston).fit()\n",
    "\n",
    "    # Generate a range of 'dis' values for predictions\n",
    "    dis_range = np.linspace(min(Boston['dis']), max(Boston['dis']), 100)\n",
    "    X_range = pd.DataFrame({'dis': dis_range})\n",
    "    \n",
    "    # Predict response\n",
    "    pred_results = spline_fit.get_prediction(X_range)\n",
    "    pred = pred_results.predicted_mean\n",
    "    conf_int = pred_results.conf_int()\n",
    "\n",
    "    # Calculate and print residual sum of squares\n",
    "    errors = np.sum(np.square(spline_fit.resid)) / (len(Boston) - len(spline_fit.params))\n",
    "    print(f\"Summary of Model fit for {spline_degree} degrees of freedom spline regression\")\n",
    "    print(spline_fit.summary())\n",
    "    print(f\"Residual sum of squares: {errors}\")\n",
    "    print(\"--------------------------------------------------------------\")\n",
    "\n",
    "    # Plot the data and spline fit with confidence interval\n",
    "    plt.scatter(Boston['dis'], Boston['nox'], alpha=0.2, label='Observed Data')\n",
    "    plt.plot(dis_range, pred, label=f'{spline_degree} degrees of freedom Spline Fit', color='blue')\n",
    "    plt.fill_between(dis_range, conf_int[:, 0], conf_int[:, 1], color='blue', alpha=0.2, label='95% Confidence Interval')\n",
    "\n",
    "    # Add labels and legend to the plot\n",
    "    plt.xlabel('dis')\n",
    "    plt.ylabel('nox')\n",
    "    plt.legend()\n",
    "    plt.title(f'Spline Fit with {spline_degree} Degrees of Freedom and Confidence Interval')\n",
    "    plt.show()"
   ]
  },
  {
   "cell_type": "markdown",
   "id": "9494a01c-dfef-45dc-a1c2-c31a74b5e830",
   "metadata": {},
   "source": [
    "(f)   Perform cross-validation or another approach in order to select the best degrees of freedom for a regression spline on this data. Describe your results.\n",
    "\n",
    "*Use Anova to compare models*"
   ]
  },
  {
   "cell_type": "code",
   "execution_count": null,
   "id": "54a7c61b-8c4a-4734-af06-b598eb50190d",
   "metadata": {},
   "outputs": [],
   "source": [
    "# Fit spline models\n",
    "spline_fit3 = sm.OLS.from_formula('nox ~ bs(dis, df=3) - 1', data=Boston).fit()\n",
    "spline_fit4 = sm.OLS.from_formula('nox ~ bs(dis, df=4) - 1', data=Boston).fit()\n",
    "spline_fit5 = sm.OLS.from_formula('nox ~ bs(dis, df=5) - 1', data=Boston).fit()\n",
    "spline_fit6 = sm.OLS.from_formula('nox ~ bs(dis, df=6) - 1', data=Boston).fit()\n",
    "spline_fit7 = sm.OLS.from_formula('nox ~ bs(dis, df=7) - 1', data=Boston).fit()\n",
    "spline_fit8 = sm.OLS.from_formula('nox ~ bs(dis, df=8) - 1', data=Boston).fit()\n",
    "spline_fit9 = sm.OLS.from_formula('nox ~ bs(dis, df=9) - 1', data=Boston).fit()\n",
    "spline_fit10 = sm.OLS.from_formula('nox ~ bs(dis, df=10) - 1', data=Boston).fit()\n",
    "\n",
    "# Perform ANOVA\n",
    "anova_results = anova_lm(spline_fit3, spline_fit4, spline_fit5, spline_fit6, spline_fit7, spline_fit8, spline_fit9, spline_fit10)\n",
    "print(anova_results)"
   ]
  }
 ],
 "metadata": {
  "kernelspec": {
   "display_name": "Python 3.10.4",
   "language": "python",
   "name": "python3"
  },
  "language_info": {
   "codemirror_mode": {
    "name": "ipython",
    "version": 3
   },
   "file_extension": ".py",
   "mimetype": "text/x-python",
   "name": "python",
   "nbconvert_exporter": "python",
   "pygments_lexer": "ipython3",
   "version": "3.11.6"
  },
  "vscode": {
   "interpreter": {
    "hash": "497a84dc8fec8cf8d24e7e87b6d954c9a18a327edc66feb9b9ea7e9e72cc5c7e"
   }
  }
 },
 "nbformat": 4,
 "nbformat_minor": 5
}
