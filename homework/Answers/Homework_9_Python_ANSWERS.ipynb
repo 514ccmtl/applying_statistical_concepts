{
 "cells": [
  {
   "cell_type": "markdown",
   "id": "6954d52a-69de-461d-a1d4-3210d629bd54",
   "metadata": {},
   "source": [
    "## DSI-06 Homework 9: ANSWERS\n",
    "From Chapter 12, found on page 554-555 of ISLP\n",
    "\n",
    "*Consider the `USArrests` data. We will now perform hierarchical clustering on the states.*"
   ]
  },
  {
   "cell_type": "code",
   "execution_count": null,
   "id": "16b74e45-c6f0-41c4-882d-713a775120d3",
   "metadata": {},
   "outputs": [],
   "source": [
    "# Import standard libraries\n",
    "import numpy as np\n",
    "import pandas as pd\n",
    "import seaborn as sns\n",
    "import matplotlib.pyplot as plt\n",
    "from matplotlib.pyplot import subplots\n",
    "import statsmodels.api as sm\n",
    "import random\n",
    "\n",
    "# Import specific objects\n",
    "from ISLP import load_data\n",
    "from ISLP.models import contrast\n",
    "from ISLP.models import (ModelSpec as MS,\n",
    "                         summarize)\n",
    "from sklearn.model_selection import train_test_split\n",
    "from sklearn.metrics import mean_squared_error\n",
    "from sklearn.preprocessing import LabelEncoder\n",
    "from sklearn.preprocessing import StandardScaler\n",
    "from scipy.cluster.hierarchy import linkage, dendrogram\n",
    "from scipy.cluster.hierarchy import fcluster\n",
    "\n",
    "# Import, load, and show USArrests data\n",
    "from statsmodels.datasets import get_rdataset\n",
    "USArrests = get_rdataset('USArrests').data\n",
    "USArrests.describe()"
   ]
  },
  {
   "cell_type": "markdown",
   "id": "055517fc-8edb-4bd4-9e70-1fabafd9d05d",
   "metadata": {},
   "source": [
    "(a)  Using hierarchical clustering with complete linkage and Euclidean distance, cluster the states."
   ]
  },
  {
   "cell_type": "code",
   "execution_count": null,
   "id": "228ca8f0-5115-4884-a665-8cabe559e7ec",
   "metadata": {},
   "outputs": [],
   "source": [
    "# Extract relevant features for clustering\n",
    "features = USArrests\n",
    "\n",
    "# Perform hierarchical clustering with complete linkage\n",
    "linkage_matrix = linkage(features, method='complete')\n",
    "\n",
    "# Plot the dendrogram\n",
    "plt.figure(figsize=(12, 8))\n",
    "dendrogram(linkage_matrix, labels=USArrests.index, leaf_rotation=90, leaf_font_size=10)\n",
    "plt.title('Hierarchical Clustering Dendrogram')\n",
    "plt.xlabel('States')\n",
    "plt.ylabel('Distance')\n",
    "plt.show()"
   ]
  },
  {
   "cell_type": "markdown",
   "id": "f8fa8943-110d-4654-9cb6-59f23557f577",
   "metadata": {},
   "source": [
    "(b) Cut the dendrogram at a height that results in three distinct clusters. Which states belong to which clusters?"
   ]
  },
  {
   "cell_type": "code",
   "execution_count": null,
   "id": "11b2a9e6-4565-43b7-a06f-02b1b9233776",
   "metadata": {},
   "outputs": [],
   "source": [
    "# Assign clusters based on a distance threshold\n",
    "threshold = 150\n",
    "clusters = fcluster(linkage_matrix, threshold, criterion='distance')\n",
    "\n",
    "# Add the cluster labels to the DataFrame\n",
    "USArrests['Cluster'] = clusters\n",
    "\n",
    "# Plot the dendrogram and highlight the clusters\n",
    "plt.figure(figsize=(12, 8))\n",
    "dendrogram(linkage_matrix, labels=USArrests.index, leaf_rotation=90, leaf_font_size=10)\n",
    "plt.axhline(y=threshold, color='red', linestyle='--', label=f'Cluster Threshold ({threshold})')\n",
    "plt.title('Hierarchical Clustering Dendrogram with Cluster Highlighting')\n",
    "plt.xlabel('States')\n",
    "plt.ylabel('Distance')\n",
    "plt.legend()\n",
    "plt.show()"
   ]
  },
  {
   "cell_type": "code",
   "execution_count": null,
   "id": "8b3a4158-1784-4e01-92b4-e382ce877695",
   "metadata": {},
   "outputs": [],
   "source": [
    "# Assign clusters\n",
    "US_clusters_3 = fcluster(linkage_matrix, 3, criterion='maxclust')\n",
    "\n",
    "# Print the cluster assignments\n",
    "print(US_clusters_3)"
   ]
  },
  {
   "cell_type": "markdown",
   "id": "8c1f5e23-31c4-4dca-b1e9-b9772c551b80",
   "metadata": {},
   "source": [
    "(c)  Hierarchically cluster the states using complete linkage and Euclidean distance, after scaling the variables to have standard deviation one."
   ]
  },
  {
   "cell_type": "code",
   "execution_count": null,
   "id": "9308cbfe-dc57-4d00-9cca-80e609877bd5",
   "metadata": {},
   "outputs": [],
   "source": [
    "# Select numerical columns to scale\n",
    "numerical_cols = ['Murder', 'Assault', 'UrbanPop', 'Rape']\n",
    "\n",
    "# Create a DataFrame with only the numerical columns\n",
    "USArrests_scaled = pd.DataFrame(StandardScaler().fit_transform(USArrests[numerical_cols]), columns=numerical_cols)\n",
    "\n",
    "# Confirm scaling worked for 'Murder'\n",
    "print(USArrests_scaled['Murder'].std())"
   ]
  },
  {
   "cell_type": "code",
   "execution_count": null,
   "id": "b4f735c8-201e-4fe5-a646-725d082ceb3b",
   "metadata": {},
   "outputs": [],
   "source": [
    "# Perform hierarchical clustering\n",
    "US_cluster_scaled = linkage(USArrests_scaled, method='complete', metric='euclidean')\n",
    "\n",
    "# Plot the dendrogram\n",
    "plt.figure(figsize=(10, 6))\n",
    "dendrogram(US_cluster_scaled, labels=USArrests_scaled.index, orientation='top', distance_sort='descending', show_leaf_counts=True)\n",
    "plt.title('Hierarchical Clustering of USArrests (Scaled)')\n",
    "plt.xlabel('States')\n",
    "plt.ylabel('Distance')\n",
    "plt.show()"
   ]
  },
  {
   "cell_type": "markdown",
   "id": "08754338-f2ea-4d9e-be1f-ae189c96b5a5",
   "metadata": {},
   "source": [
    "(d) What effect does scaling the variables have on the hierarchical clustering obtained? In your opinion, should the variables be scaled before the inter-observation dissimilarities are computed? Provide a justification for your answer."
   ]
  },
  {
   "cell_type": "code",
   "execution_count": null,
   "id": "87f2d0ff-937a-469c-b619-6acc924a5ce4",
   "metadata": {},
   "outputs": [],
   "source": [
    "# Cut the hierarchical clustering to obtain clusters\n",
    "k = 3  # Number of clusters\n",
    "US_clusters_3_scaled = fcluster(US_cluster_scaled, k, criterion='maxclust')\n",
    "\n",
    "# Print cluster assignments\n",
    "print(US_clusters_3_scaled)"
   ]
  },
  {
   "cell_type": "code",
   "execution_count": null,
   "id": "4c9fcd05-7684-40dd-bacb-cf8827997494",
   "metadata": {},
   "outputs": [],
   "source": [
    "# Create a Pandas Series with cluster assignments\n",
    "cluster_counts = pd.Series(US_clusters_3_scaled)\n",
    "\n",
    "# Print the frequency table\n",
    "print(cluster_counts.value_counts())"
   ]
  },
  {
   "cell_type": "code",
   "execution_count": null,
   "id": "ba504f66-dc91-43ce-a43a-06b20ceecdbd",
   "metadata": {},
   "outputs": [],
   "source": [
    "# Create a contingency table\n",
    "contingency_table = pd.crosstab(US_clusters_3, US_clusters_3_scaled)\n",
    "\n",
    "# Print the contingency table\n",
    "print(contingency_table)"
   ]
  },
  {
   "cell_type": "code",
   "execution_count": null,
   "id": "0c74f693-7037-4e07-a21b-e5a51cb86974",
   "metadata": {},
   "outputs": [],
   "source": [
    "same_membership = (6 + 2 + 20) / 50\n",
    "print(same_membership)"
   ]
  },
  {
   "cell_type": "markdown",
   "id": "312acaa0-07a8-43c0-845c-b68ec0ee523e",
   "metadata": {},
   "source": [
    "Scaling of the variables does indeed change the cluster membership of certain states! It appears as though only 56% of states were assigned to the same membership when comparing scaled and non-scaled data.Scaling maybe useful for this dataset, given UrbanPop is recorded as a different unit (Percent), compared to Murder, Assault and Rape which are reported as per 100,000."
   ]
  }
 ],
 "metadata": {
  "kernelspec": {
   "display_name": "Python 3 (ipykernel)",
   "language": "python",
   "name": "python3"
  },
  "language_info": {
   "codemirror_mode": {
    "name": "ipython",
    "version": 3
   },
   "file_extension": ".py",
   "mimetype": "text/x-python",
   "name": "python",
   "nbconvert_exporter": "python",
   "pygments_lexer": "ipython3",
   "version": "3.11.6"
  }
 },
 "nbformat": 4,
 "nbformat_minor": 5
}
