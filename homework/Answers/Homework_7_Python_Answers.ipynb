{
 "cells": [
  {
   "attachments": {},
   "cell_type": "markdown",
   "id": "be210ce5-ffc0-42c3-b051-735faf523730",
   "metadata": {},
   "source": [
    "## DSI-06 Homework 7: ANSWERS\n",
    "From Chapter 9, found on page 365 of ISLP\n",
    "\n",
    "*This problem involves the `OJ` data set which is part of the `ISLP` package.*"
   ]
  },
  {
   "cell_type": "code",
   "execution_count": 33,
   "id": "4dfd74ea-2142-47e7-87c3-cf2180cd65a1",
   "metadata": {},
   "outputs": [
    {
     "name": "stdout",
     "output_type": "stream",
     "text": [
      "     Purchase  WeekofPurchase  StoreID  PriceCH  PriceMM  DiscCH  DiscMM  \\\n",
      "0          CH             237        1     1.75     1.99    0.00    0.00   \n",
      "1          CH             239        1     1.75     1.99    0.00    0.30   \n",
      "2          CH             245        1     1.86     2.09    0.17    0.00   \n",
      "3          MM             227        1     1.69     1.69    0.00    0.00   \n",
      "4          CH             228        7     1.69     1.69    0.00    0.00   \n",
      "...       ...             ...      ...      ...      ...     ...     ...   \n",
      "1065       CH             252        7     1.86     2.09    0.10    0.00   \n",
      "1066       CH             256        7     1.86     2.18    0.00    0.00   \n",
      "1067       MM             257        7     1.86     2.18    0.00    0.00   \n",
      "1068       CH             261        7     1.86     2.13    0.00    0.24   \n",
      "1069       CH             270        1     1.86     2.18    0.00    0.00   \n",
      "\n",
      "      SpecialCH  SpecialMM   LoyalCH  SalePriceMM  SalePriceCH  PriceDiff  \\\n",
      "0             0          0  0.500000         1.99         1.75       0.24   \n",
      "1             0          1  0.600000         1.69         1.75      -0.06   \n",
      "2             0          0  0.680000         2.09         1.69       0.40   \n",
      "3             0          0  0.400000         1.69         1.69       0.00   \n",
      "4             0          0  0.956535         1.69         1.69       0.00   \n",
      "...         ...        ...       ...          ...          ...        ...   \n",
      "1065          0          0  0.587822         2.09         1.76       0.33   \n",
      "1066          0          0  0.670258         2.18         1.86       0.32   \n",
      "1067          0          0  0.736206         2.18         1.86       0.32   \n",
      "1068          0          0  0.588965         1.89         1.86       0.03   \n",
      "1069          0          0  0.671172         2.18         1.86       0.32   \n",
      "\n",
      "     Store7  PctDiscMM  PctDiscCH  ListPriceDiff  STORE  \n",
      "0        No   0.000000   0.000000           0.24      1  \n",
      "1        No   0.150754   0.000000           0.24      1  \n",
      "2        No   0.000000   0.091398           0.23      1  \n",
      "3        No   0.000000   0.000000           0.00      1  \n",
      "4       Yes   0.000000   0.000000           0.00      0  \n",
      "...     ...        ...        ...            ...    ...  \n",
      "1065    Yes   0.000000   0.053763           0.23      0  \n",
      "1066    Yes   0.000000   0.000000           0.32      0  \n",
      "1067    Yes   0.000000   0.000000           0.32      0  \n",
      "1068    Yes   0.112676   0.000000           0.27      0  \n",
      "1069     No   0.000000   0.000000           0.32      1  \n",
      "\n",
      "[1070 rows x 18 columns]\n"
     ]
    }
   ],
   "source": [
    "# Import libraries and objects\n",
    "import numpy as np\n",
    "import pandas as pd\n",
    "import seaborn as sns\n",
    "import matplotlib.pyplot as plt\n",
    "from matplotlib.pyplot import subplots\n",
    "import statsmodels.api as sm\n",
    "import random\n",
    "from ISLP import load_data\n",
    "from ISLP.models import contrast\n",
    "from ISLP.models import (ModelSpec as MS,\n",
    "                         summarize)\n",
    "from sklearn.model_selection import train_test_split\n",
    "from sklearn.tree import DecisionTreeClassifier\n",
    "from sklearn.metrics import accuracy_score\n",
    "from sklearn.preprocessing import LabelEncoder\n",
    "from sklearn.preprocessing import OneHotEncoder\n",
    "from sklearn.compose import ColumnTransformer\n",
    "from sklearn.pipeline import Pipeline\n",
    "\n",
    "# Load Default data\n",
    "OJ = load_data('OJ')\n",
    "print(OJ)"
   ]
  },
  {
   "cell_type": "markdown",
   "id": "6d9933aa-bf98-40e0-b8b6-ee68c51a2cfb",
   "metadata": {},
   "source": [
    "(a)  Create a training set containing a random sample of 800 observations, and a test set containing the remaining observations."
   ]
  },
  {
   "cell_type": "code",
   "execution_count": 22,
   "id": "c987bd9b-1d2d-4021-a4a3-f13d543acc69",
   "metadata": {},
   "outputs": [
    {
     "name": "stdout",
     "output_type": "stream",
     "text": [
      "Training Set:\n",
      "    Purchase  WeekofPurchase  StoreID  PriceCH  PriceMM  DiscCH  DiscMM  \\\n",
      "208       CH             253        7     1.86     2.09     0.1    0.00   \n",
      "677       MM             274        1     1.96     2.13     0.0    0.74   \n",
      "50        MM             248        4     1.99     2.23     0.0    0.00   \n",
      "30        CH             246        2     1.89     2.09     0.0    0.00   \n",
      "443       CH             261        1     1.76     1.99     0.0    0.00   \n",
      "\n",
      "     SpecialCH  SpecialMM   LoyalCH  SalePriceMM  SalePriceCH  PriceDiff  \\\n",
      "208          0          0  0.880462         2.09         1.76       0.33   \n",
      "677          0          1  0.731794         1.39         1.96      -0.57   \n",
      "50           0          0  0.927675         2.23         1.99       0.24   \n",
      "30           0          0  0.500000         2.09         1.89       0.20   \n",
      "443          0          0  0.787008         1.99         1.76       0.23   \n",
      "\n",
      "    Store7  PctDiscMM  PctDiscCH  ListPriceDiff  STORE  \n",
      "208    Yes   0.000000   0.053763           0.23      0  \n",
      "677     No   0.347418   0.000000           0.17      1  \n",
      "50      No   0.000000   0.000000           0.24      4  \n",
      "30      No   0.000000   0.000000           0.20      2  \n",
      "443     No   0.000000   0.000000           0.23      1  \n",
      "\n",
      "Test Set:\n",
      "   Purchase  WeekofPurchase  StoreID  PriceCH  PriceMM  DiscCH  DiscMM  \\\n",
      "6        CH             232        7     1.69     1.99    0.00     0.4   \n",
      "8        CH             235        7     1.75     1.99    0.00     0.4   \n",
      "16       MM             240        1     1.75     1.99    0.00     0.3   \n",
      "22       CH             259        7     1.86     2.18    0.00     0.0   \n",
      "23       CH             264        7     1.86     2.13    0.37     0.0   \n",
      "\n",
      "    SpecialCH  SpecialMM   LoyalCH  SalePriceMM  SalePriceCH  PriceDiff  \\\n",
      "6           1          1  0.972182         1.59         1.69      -0.10   \n",
      "8           0          0  0.982197         1.59         1.75      -0.16   \n",
      "16          0          1  0.500000         1.69         1.75      -0.06   \n",
      "22          0          0  0.744000         2.18         1.86       0.32   \n",
      "23          1          0  0.795200         2.13         1.49       0.64   \n",
      "\n",
      "   Store7  PctDiscMM  PctDiscCH  ListPriceDiff  STORE  \n",
      "6     Yes   0.201005   0.000000           0.30      0  \n",
      "8     Yes   0.201005   0.000000           0.24      0  \n",
      "16     No   0.150754   0.000000           0.24      1  \n",
      "22    Yes   0.000000   0.000000           0.32      0  \n",
      "23    Yes   0.000000   0.198925           0.27      0  \n"
     ]
    }
   ],
   "source": [
    "# Set a random seed for reproducibility\n",
    "np.random.seed(16)\n",
    "\n",
    "# Generate random indices for training set\n",
    "train_indices = np.random.choice(OJ.index, size=800, replace=False)\n",
    "\n",
    "# Create training and test sets\n",
    "train_set = OJ.loc[train_indices]\n",
    "test_set = OJ.drop(train_indices)\n",
    "\n",
    "# Print the first few rows of each set\n",
    "print(\"Training Set:\")\n",
    "print(train_set.head())\n",
    "\n",
    "print(\"\\nTest Set:\")\n",
    "print(test_set.head())"
   ]
  },
  {
   "cell_type": "markdown",
   "id": "85b84220-39c3-47d4-b2ba-56b43861b7e7",
   "metadata": {},
   "source": [
    "(b) Fit a tree to the training data, with Purchase as the response and the other variables as predictors. What is the training error rate?"
   ]
  },
  {
   "cell_type": "code",
   "execution_count": 31,
   "id": "5725763b-6135-4d0d-9d0e-21330838f79e",
   "metadata": {},
   "outputs": [],
   "source": [
    "# Add answer"
   ]
  },
  {
   "cell_type": "markdown",
   "id": "c02b8a04-9152-48bc-92fc-2c262041edf2",
   "metadata": {},
   "source": [
    "(c)  Create a plot of the tree, and interpret the results. How many terminal nodes does the tree have?"
   ]
  },
  {
   "cell_type": "code",
   "execution_count": 32,
   "id": "462f6d37-4ea0-406d-890e-3bfe9656da9f",
   "metadata": {},
   "outputs": [],
   "source": [
    "# Add answer"
   ]
  },
  {
   "cell_type": "markdown",
   "id": "2dffc00e-7252-4683-8c20-acae100b7a33",
   "metadata": {},
   "source": [
    "(d) Use the `export_tree()` function to produce a text summary of the fitted tree. Pick one of the terminal nodes, and interpret the information displayed."
   ]
  },
  {
   "cell_type": "code",
   "execution_count": 32,
   "id": "1a7400cd-103e-41f4-8451-7b8ff025dd61",
   "metadata": {},
   "outputs": [],
   "source": [
    "# Add answer"
   ]
  },
  {
   "cell_type": "markdown",
   "id": "6ff73ada-f141-489f-862d-9cafa671bc2a",
   "metadata": {},
   "source": [
    "(e)  Predict the response on the test data, and produce a confusion matrix comparing the test labels to the predicted test labels. What is the test error rate?"
   ]
  },
  {
   "cell_type": "code",
   "execution_count": 32,
   "id": "376db897-e7c8-44d3-8385-4890ce91ac70",
   "metadata": {},
   "outputs": [],
   "source": [
    "# Add answer"
   ]
  },
  {
   "cell_type": "markdown",
   "id": "f34e953c-19c4-4a37-a2ca-1b084dc2d446",
   "metadata": {},
   "source": [
    "(f)   Use cross-validation on the training set in order to determine the optimal tree size."
   ]
  },
  {
   "cell_type": "code",
   "execution_count": 32,
   "id": "d1413151-a132-4dc2-bbcd-bc6bc50ce83b",
   "metadata": {},
   "outputs": [],
   "source": [
    "# Add answer"
   ]
  },
  {
   "cell_type": "markdown",
   "id": "d7e43460-6bb7-4c9f-8b0c-aad1f5f3d477",
   "metadata": {},
   "source": [
    "(g)  Produce a plot with tree size on the x-axis and cross-validated classification error rate on the y-axis."
   ]
  },
  {
   "cell_type": "code",
   "execution_count": 32,
   "id": "c9e2df33-a73e-48f5-b030-68fd17df0576",
   "metadata": {},
   "outputs": [],
   "source": [
    "# Add answer"
   ]
  },
  {
   "cell_type": "markdown",
   "id": "3742ba17-d469-4406-9977-6fc79ba80daf",
   "metadata": {},
   "source": [
    "(h) Which tree size corresponds to the lowest cross-validated classification error rate?"
   ]
  },
  {
   "cell_type": "code",
   "execution_count": 32,
   "id": "8e028838-70ff-4a6f-b11e-e93ebd914e52",
   "metadata": {},
   "outputs": [],
   "source": [
    "# Add answer"
   ]
  },
  {
   "cell_type": "markdown",
   "id": "3a1b6c64-b7e1-4a68-9dd4-16724cdd1870",
   "metadata": {},
   "source": [
    "(i)   Produce a pruned tree corresponding to the optimal tree size obtained using cross-validation. If cross-validation does not lead to selection of a pruned tree, then create a pruned tree with five terminal nodes."
   ]
  },
  {
   "cell_type": "code",
   "execution_count": 32,
   "id": "63a92d40-0a0c-47db-9060-782cb945769b",
   "metadata": {},
   "outputs": [],
   "source": [
    "# Add answer"
   ]
  },
  {
   "cell_type": "markdown",
   "id": "3e33cac6-c0d1-43a2-900b-a74608236155",
   "metadata": {},
   "source": [
    "(j)   Compare the training error rates between the pruned and unpruned trees. Which is higher?"
   ]
  },
  {
   "cell_type": "code",
   "execution_count": 32,
   "id": "1b35ae93-dc73-4ce5-ad98-24de9ef8bf3f",
   "metadata": {},
   "outputs": [],
   "source": [
    "# Add answer"
   ]
  },
  {
   "cell_type": "markdown",
   "id": "76e4b1e1-c825-430d-94e0-ebad96b49656",
   "metadata": {},
   "source": [
    "(k)  Compare the test error rates between the pruned and unpruned trees. Which is higher?"
   ]
  },
  {
   "cell_type": "code",
   "execution_count": 32,
   "id": "293a9201-e7f3-4d27-917e-f8a88f6f16fc",
   "metadata": {},
   "outputs": [],
   "source": [
    "# Add answer"
   ]
  }
 ],
 "metadata": {
  "kernelspec": {
   "display_name": "Python 3 (ipykernel)",
   "language": "python",
   "name": "python3"
  },
  "language_info": {
   "codemirror_mode": {
    "name": "ipython",
    "version": 3
   },
   "file_extension": ".py",
   "mimetype": "text/x-python",
   "name": "python",
   "nbconvert_exporter": "python",
   "pygments_lexer": "ipython3",
   "version": "3.11.5"
  }
 },
 "nbformat": 4,
 "nbformat_minor": 5
}
