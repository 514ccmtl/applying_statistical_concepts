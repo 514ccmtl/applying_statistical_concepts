{
 "cells": [
  {
   "attachments": {},
   "cell_type": "markdown",
   "id": "be210ce5-ffc0-42c3-b051-735faf523730",
   "metadata": {},
   "source": [
    "## DSI-06 Homework 7: ANSWERS\n",
    "From Chapter 9, found on page 365 of ISLP\n",
    "\n",
    "*This problem involves the `OJ` data set which is part of the `ISLP` package.*"
   ]
  },
  {
   "cell_type": "code",
   "execution_count": null,
   "id": "4dfd74ea-2142-47e7-87c3-cf2180cd65a1",
   "metadata": {},
   "outputs": [],
   "source": [
    "# Import libraries and objects\n",
    "import numpy as np\n",
    "import pandas as pd\n",
    "import seaborn as sns\n",
    "import matplotlib.pyplot as plt\n",
    "from matplotlib.pyplot import subplots\n",
    "import statsmodels.api as sm\n",
    "import random\n",
    "from ISLP import load_data\n",
    "from ISLP.models import contrast\n",
    "from ISLP.models import (ModelSpec as MS,\n",
    "                         summarize)\n",
    "from sklearn.model_selection import train_test_split\n",
    "from sklearn.tree import DecisionTreeClassifier\n",
    "from sklearn.metrics import accuracy_score\n",
    "from sklearn.preprocessing import LabelEncoder\n",
    "from sklearn.preprocessing import OneHotEncoder\n",
    "from sklearn.compose import ColumnTransformer\n",
    "from sklearn.pipeline import Pipeline\n",
    "\n",
    "# Load Default data\n",
    "OJ = load_data('OJ')\n",
    "print(OJ)"
   ]
  },
  {
   "cell_type": "markdown",
   "id": "6d9933aa-bf98-40e0-b8b6-ee68c51a2cfb",
   "metadata": {},
   "source": [
    "(a)  Create a training set containing a random sample of 800 observations, and a test set containing the remaining observations."
   ]
  },
  {
   "cell_type": "code",
   "execution_count": null,
   "id": "c987bd9b-1d2d-4021-a4a3-f13d543acc69",
   "metadata": {},
   "outputs": [],
   "source": [
    "# Set a random seed for reproducibility\n",
    "np.random.seed(16)\n",
    "\n",
    "# Generate random indices for training set\n",
    "train_indices = np.random.choice(OJ.index, size=800, replace=False)\n",
    "\n",
    "# Create training and test sets\n",
    "train_set = OJ.loc[train_indices]\n",
    "test_set = OJ.drop(train_indices)\n",
    "\n",
    "# Print the first few rows of each set\n",
    "print(\"Training Set:\")\n",
    "print(train_set.head())\n",
    "\n",
    "print(\"\\nTest Set:\")\n",
    "print(test_set.head())"
   ]
  },
  {
   "cell_type": "markdown",
   "id": "85b84220-39c3-47d4-b2ba-56b43861b7e7",
   "metadata": {},
   "source": [
    "(b) Fit a tree to the training data, with Purchase as the response and the other variables as predictors. What is the training error rate?"
   ]
  },
  {
   "cell_type": "code",
   "execution_count": null,
   "id": "5725763b-6135-4d0d-9d0e-21330838f79e",
   "metadata": {},
   "outputs": [],
   "source": [
    "# Add answer"
   ]
  },
  {
   "cell_type": "markdown",
   "id": "c02b8a04-9152-48bc-92fc-2c262041edf2",
   "metadata": {},
   "source": [
    "(c)  Create a plot of the tree, and interpret the results. How many terminal nodes does the tree have?"
   ]
  },
  {
   "cell_type": "code",
   "execution_count": null,
   "id": "462f6d37-4ea0-406d-890e-3bfe9656da9f",
   "metadata": {},
   "outputs": [],
   "source": [
    "# Add answer"
   ]
  },
  {
   "cell_type": "markdown",
   "id": "2dffc00e-7252-4683-8c20-acae100b7a33",
   "metadata": {},
   "source": [
    "(d) Use the `export_tree()` function to produce a text summary of the fitted tree. Pick one of the terminal nodes, and interpret the information displayed."
   ]
  },
  {
   "cell_type": "code",
   "execution_count": null,
   "id": "1a7400cd-103e-41f4-8451-7b8ff025dd61",
   "metadata": {},
   "outputs": [],
   "source": [
    "# Add answer"
   ]
  },
  {
   "cell_type": "markdown",
   "id": "6ff73ada-f141-489f-862d-9cafa671bc2a",
   "metadata": {},
   "source": [
    "(e)  Predict the response on the test data, and produce a confusion matrix comparing the test labels to the predicted test labels. What is the test error rate?"
   ]
  },
  {
   "cell_type": "code",
   "execution_count": null,
   "id": "376db897-e7c8-44d3-8385-4890ce91ac70",
   "metadata": {},
   "outputs": [],
   "source": [
    "# Add answer"
   ]
  },
  {
   "cell_type": "markdown",
   "id": "f34e953c-19c4-4a37-a2ca-1b084dc2d446",
   "metadata": {},
   "source": [
    "(f)   Use cross-validation on the training set in order to determine the optimal tree size."
   ]
  },
  {
   "cell_type": "code",
   "execution_count": null,
   "id": "d1413151-a132-4dc2-bbcd-bc6bc50ce83b",
   "metadata": {},
   "outputs": [],
   "source": [
    "# Add answer"
   ]
  },
  {
   "cell_type": "markdown",
   "id": "d7e43460-6bb7-4c9f-8b0c-aad1f5f3d477",
   "metadata": {},
   "source": [
    "(g)  Produce a plot with tree size on the x-axis and cross-validated classification error rate on the y-axis."
   ]
  },
  {
   "cell_type": "code",
   "execution_count": null,
   "id": "c9e2df33-a73e-48f5-b030-68fd17df0576",
   "metadata": {},
   "outputs": [],
   "source": [
    "# Add answer"
   ]
  },
  {
   "cell_type": "markdown",
   "id": "3742ba17-d469-4406-9977-6fc79ba80daf",
   "metadata": {},
   "source": [
    "(h) Which tree size corresponds to the lowest cross-validated classification error rate?"
   ]
  },
  {
   "cell_type": "code",
   "execution_count": null,
   "id": "8e028838-70ff-4a6f-b11e-e93ebd914e52",
   "metadata": {},
   "outputs": [],
   "source": [
    "# Add answer"
   ]
  },
  {
   "cell_type": "markdown",
   "id": "3a1b6c64-b7e1-4a68-9dd4-16724cdd1870",
   "metadata": {},
   "source": [
    "(i)   Produce a pruned tree corresponding to the optimal tree size obtained using cross-validation. If cross-validation does not lead to selection of a pruned tree, then create a pruned tree with five terminal nodes."
   ]
  },
  {
   "cell_type": "code",
   "execution_count": null,
   "id": "63a92d40-0a0c-47db-9060-782cb945769b",
   "metadata": {},
   "outputs": [],
   "source": [
    "# Add answer"
   ]
  },
  {
   "cell_type": "markdown",
   "id": "3e33cac6-c0d1-43a2-900b-a74608236155",
   "metadata": {},
   "source": [
    "(j)   Compare the training error rates between the pruned and unpruned trees. Which is higher?"
   ]
  },
  {
   "cell_type": "code",
   "execution_count": null,
   "id": "1b35ae93-dc73-4ce5-ad98-24de9ef8bf3f",
   "metadata": {},
   "outputs": [],
   "source": [
    "# Add answer"
   ]
  },
  {
   "cell_type": "markdown",
   "id": "76e4b1e1-c825-430d-94e0-ebad96b49656",
   "metadata": {},
   "source": [
    "(k)  Compare the test error rates between the pruned and unpruned trees. Which is higher?"
   ]
  },
  {
   "cell_type": "code",
   "execution_count": null,
   "id": "293a9201-e7f3-4d27-917e-f8a88f6f16fc",
   "metadata": {},
   "outputs": [],
   "source": [
    "# Add answer"
   ]
  }
 ],
 "metadata": {
  "kernelspec": {
   "display_name": "Python 3 (ipykernel)",
   "language": "python",
   "name": "python3"
  },
  "language_info": {
   "codemirror_mode": {
    "name": "ipython",
    "version": 3
   },
   "file_extension": ".py",
   "mimetype": "text/x-python",
   "name": "python",
   "nbconvert_exporter": "python",
   "pygments_lexer": "ipython3",
   "version": "3.11.6"
  }
 },
 "nbformat": 4,
 "nbformat_minor": 5
}
